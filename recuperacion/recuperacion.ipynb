{
 "cells": [
  {
   "cell_type": "code",
   "execution_count": 149,
   "metadata": {},
   "outputs": [],
   "source": [
    "import numpy as np\n",
    "import matplotlib.pyplot as plt\n",
    "import time"
   ]
  },
  {
   "cell_type": "code",
   "execution_count": 150,
   "metadata": {},
   "outputs": [],
   "source": [
    "def xy_a_s(x, y, L):\n",
    "    return y * L + x\n",
    "\n",
    "def s_a_xy(s, L):\n",
    "    return s % L, s // L\n",
    "\n",
    "def vecino(s, j, L, empty):\n",
    "    if j == 0:  \n",
    "        if s % L == L - 1:\n",
    "            return empty\n",
    "        else:\n",
    "            return s + 1\n",
    "    elif j == 1:  \n",
    "        if s // L == L - 1:\n",
    "            return empty\n",
    "        else:\n",
    "            return s + L\n",
    "    elif j == 2:  \n",
    "        if s % L == 0:\n",
    "            return empty\n",
    "        else:\n",
    "            return s - 1\n",
    "    elif j == 3:  \n",
    "        if s // L == 0:\n",
    "            return empty\n",
    "        else:\n",
    "            return s - L\n",
    "\n",
    "def boundaries(L, N, empty):\n",
    "    nn = np.zeros((N, 4), dtype=int)\n",
    "    for s in range(N):\n",
    "        for j in range(4):\n",
    "            nn[s, j] = vecino(s, j, L, empty)\n",
    "    return nn"
   ]
  },
  {
   "cell_type": "code",
   "execution_count": 151,
   "metadata": {},
   "outputs": [],
   "source": [
    "def HLA(L, N, nn, empty):\n",
    "    site = np.zeros(N, dtype=np.short)\n",
    "    \n",
    "    xseed, yseed = L // 2, L // 2\n",
    "    sseed = xy_a_s(xseed, yseed, L)\n",
    "    site[sseed] = 1  \n",
    "    \n",
    "    per = [nn[sseed, j] for j in range(4) if nn[sseed, j] != empty]\n",
    "    valPer = [np.random.random() for _ in per]\n",
    "    \n",
    "    sorted_indices = np.argsort(valPer)\n",
    "    per = np.array(per)[sorted_indices]\n",
    "    valPer = np.array(valPer)[sorted_indices]\n",
    "    \n",
    "    sstart = per[0]\n",
    "    site[sstart] = 1\n",
    "    cluster = [sstart]\n",
    "    per = np.delete(per, 0)\n",
    "    valPer = np.delete(valPer, 0)\n",
    "\n",
    "    while len(per) > 0 and not np.any([s % L == 0 or s % L == L-1 or s // L == 0 or s // L == L-1 for s in cluster]):\n",
    "        snew = per[0]\n",
    "        per = np.delete(per, 0)\n",
    "        valPer = np.delete(valPer, 0)\n",
    "        \n",
    "        site[snew] = 1  \n",
    "        cluster.append(snew)\n",
    "        for j in range(4):\n",
    "            sper = nn[snew, j]\n",
    "            if sper != empty and site[sper] == 0:\n",
    "                per = np.append(per, sper)\n",
    "                valPer = np.append(valPer, np.random.random())\n",
    "                site[sper] = 2\n",
    "        \n",
    "        sorted_indices = np.argsort(valPer)\n",
    "        per = per[sorted_indices]\n",
    "        valPer = valPer[sorted_indices]\n",
    "        \n",
    "    return site, cluster"
   ]
  },
  {
   "cell_type": "code",
   "execution_count": 152,
   "metadata": {},
   "outputs": [],
   "source": [
    "L = 16\n",
    "N = L * L\n",
    "empty = -1\n",
    "startTime = time.process_time()\n",
    "nn = boundaries(L, N, empty)\n",
    "site, cluster = HLA(L, N, nn, empty)\n",
    "endTime = time.process_time()"
   ]
  },
  {
   "cell_type": "code",
   "execution_count": 153,
   "metadata": {},
   "outputs": [
    {
     "name": "stdout",
     "output_type": "stream",
     "text": [
      "tiempo =  0.0  s\n",
      "[[  1  16  -1  -1]\n",
      " [  2  17   0  -1]\n",
      " [  3  18   1  -1]\n",
      " ...\n",
      " [254  -1 252 237]\n",
      " [255  -1 253 238]\n",
      " [ -1  -1 254 239]]\n",
      "[137, 135, 134, 150, 166, 149, 167, 182, 198, 199, 200, 201, 185, 217, 233, 234, 249]\n",
      "[0 0 0 0 0 0 0 0 0 0 0 0 0 0 0 0 0 0 0 0 0 0 0 0 0 0 0 0 0 0 0 0 0 0 0 0 0\n",
      " 0 0 0 0 0 0 0 0 0 0 0 0 0 0 0 0 0 0 0 0 0 0 0 0 0 0 0 0 0 0 0 0 0 0 0 0 0\n",
      " 0 0 0 0 0 0 0 0 0 0 0 0 0 0 0 0 0 0 0 0 0 0 0 0 0 0 0 0 0 0 0 0 0 0 0 0 0\n",
      " 0 0 0 0 0 0 0 2 2 0 0 0 0 0 0 0 0 0 0 0 0 0 2 1 1 1 1 0 0 0 0 0 0 0 0 0 0\n",
      " 2 1 1 2 0 0 0 0 0 0 0 0 0 0 0 0 0 2 1 1 2 2 0 0 0 0 0 0 0 0 0 0 0 2 1 2 2\n",
      " 1 2 0 0 0 0 0 0 0 0 0 0 2 1 1 1 1 2 0 0 0 0 0 0 0 0 0 0 0 2 2 2 1 2 0 0 0\n",
      " 0 0 0 0 0 0 0 0 0 0 2 1 1 2 0 0 0 0 0 0 0 0 0 0 0 0 2 1 2 0 0 0 0 0]\n"
     ]
    }
   ],
   "source": [
    "print('tiempo = ',round(endTime-startTime,2),' s')\n",
    "\n",
    "print(nn)\n",
    "print(cluster)\n",
    "print(site)"
   ]
  },
  {
   "cell_type": "code",
   "execution_count": 154,
   "metadata": {},
   "outputs": [
    {
     "name": "stderr",
     "output_type": "stream",
     "text": [
      "/var/folders/yv/xkr121fn6sg196g8ytf0bq3m0000gn/T/ipykernel_35273/3407511966.py:6: UserWarning: Setting the 'color' property will override the edgecolor or facecolor properties.\n",
      "  rect = plt.Rectangle((x, y), 1, 1, color='r', edgecolor='k')\n"
     ]
    },
    {
     "data": {
      "image/png": "[encoded data removed]",
      "text/plain": [
       "<Figure size 900x900 with 1 Axes>"
      ]
     },
     "metadata": {},
     "output_type": "display_data"
    }
   ],
   "source": [
    "ncluster = np.array([s_a_xy(s, L) for s in cluster])\n",
    "\n",
    "fig = plt.figure(figsize=(9,9))\n",
    "ax = fig.add_subplot(1,1,1)\n",
    "for x, y in ncluster:\n",
    "    rect = plt.Rectangle((x, y), 1, 1, color='r', edgecolor='k')\n",
    "    ax.add_patch(rect)\n",
    "\n",
    "plt.xlim(0, L)\n",
    "plt.ylim(0, L)\n",
    "plt.show()"
   ]
  }
 ],
 "metadata": {
  "kernelspec": {
   "display_name": "base",
   "language": "python",
   "name": "python3"
  },
  "language_info": {
   "codemirror_mode": {
    "name": "ipython",
    "version": 3
   },
   "file_extension": ".py",
   "mimetype": "text/x-python",
   "name": "python",
   "nbconvert_exporter": "python",
   "pygments_lexer": "ipython3",
   "version": "3.11.5"
  }
 },
 "nbformat": 4,
 "nbformat_minor": 2
}
