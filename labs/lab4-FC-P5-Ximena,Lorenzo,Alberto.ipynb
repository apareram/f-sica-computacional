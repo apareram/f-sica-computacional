{
 "cells": [
  {
   "cell_type": "code",
   "execution_count": 31,
   "metadata": {},
   "outputs": [],
   "source": [
    "import numpy as np"
   ]
  },
  {
   "cell_type": "markdown",
   "metadata": {},
   "source": [
    "### Mark Newman"
   ]
  },
  {
   "cell_type": "code",
   "execution_count": 32,
   "metadata": {},
   "outputs": [],
   "source": [
    "def f(x):\n",
    "    return 1 / (np.exp(x) + 1)"
   ]
  },
  {
   "cell_type": "code",
   "execution_count": 33,
   "metadata": {},
   "outputs": [],
   "source": [
    "i_excato = 0.838932960013382\n",
    "n = 1000000 "
   ]
  },
  {
   "cell_type": "code",
   "execution_count": 34,
   "metadata": {},
   "outputs": [],
   "source": [
    "z = np.random.rand(n)\n",
    "\n",
    "x = z**2\n",
    "\n",
    "f_w_media = np.mean(f(x))\n",
    "\n",
    "i = 2 * f_w_media\n"
   ]
  },
  {
   "cell_type": "code",
   "execution_count": 35,
   "metadata": {},
   "outputs": [],
   "source": [
    "error_absoluto = np.abs(i - i_excato)"
   ]
  },
  {
   "cell_type": "code",
   "execution_count": 36,
   "metadata": {},
   "outputs": [
    {
     "name": "stdout",
     "output_type": "stream",
     "text": [
      "Valor aproximado de la integral: 0.8390588439843274\n",
      "Error absoluto: 0.00012588397094537296\n"
     ]
    }
   ],
   "source": [
    "print(\"Valor aproximado de la integral:\", i)\n",
    "print(\"Error absoluto:\", error_absoluto)"
   ]
  },
  {
   "cell_type": "markdown",
   "metadata": {},
   "source": [
    "### Comparando con el método del valor medio"
   ]
  },
  {
   "cell_type": "code",
   "execution_count": 37,
   "metadata": {},
   "outputs": [],
   "source": [
    "def valor_medio(f, a, b, n):\n",
    "    x = np.random.uniform(a, b, n)\n",
    "    fx = f(x)\n",
    "    i = ((b - a) / n) * np.sum(fx)\n",
    "    return i"
   ]
  },
  {
   "cell_type": "code",
   "execution_count": 38,
   "metadata": {},
   "outputs": [],
   "source": [
    "a, b = 0.00000001, 1.99999999"
   ]
  },
  {
   "cell_type": "code",
   "execution_count": 39,
   "metadata": {},
   "outputs": [],
   "source": [
    "i_medio = valor_medio(f, a, b, n)\n",
    "error_absoluto_medio = np.abs(i - i_excato)"
   ]
  },
  {
   "cell_type": "code",
   "execution_count": 40,
   "metadata": {},
   "outputs": [
    {
     "name": "stdout",
     "output_type": "stream",
     "text": [
      "Valor aproximado de la integral: 0.5663940022023322\n",
      "Error absoluto: 0.00012588397094537296\n"
     ]
    }
   ],
   "source": [
    "print(\"Valor aproximado de la integral:\", i_medio)\n",
    "print(\"Error absoluto:\", error_absoluto_medio)"
   ]
  },
  {
   "cell_type": "markdown",
   "metadata": {},
   "source": [
    "### Discusión"
   ]
  },
  {
   "cell_type": "markdown",
   "metadata": {},
   "source": [
    "La comparación entre ambos métodos muestra una diferencia significativa en la precisión de la estimación de la integral dada. Utilizando el mismo número de muestras ($n = 1,000,000$), el método de muestreo de importancia proporciona una estimación más precisa de la integral en comparación con el método del valor medio. Esto puede atribuirse a la eficacia del muestreo de importancia en reducir la varianza de la estimación, especialmente en casos donde el integrando presenta características que pueden ser mejor explotadas por una distribución de probabilidad ajustada (como $p(x) = \\frac{1}{2}x^{-1/2}$).\n",
    "\n",
    "El método del valor medio, aunque es una técnica generalmente efectiva para la estimación de integrales, puede no ser tan preciso para ciertos tipos de integrandos o rangos de integración, particularmente cuando el integrando tiene comportamientos que difieren significativamente a lo largo del intervalo de integración.\n",
    "\n",
    "En conclusión, la selección del método de estimación de Monte Carlo más adecuado puede depender fuertemente de las propiedades específicas del problema de integración en cuestión, y en este caso, el muestreo de importancia demostró ser superior."
   ]
  }
 ],
 "metadata": {
  "kernelspec": {
   "display_name": "base",
   "language": "python",
   "name": "python3"
  },
  "language_info": {
   "codemirror_mode": {
    "name": "ipython",
    "version": 3
   },
   "file_extension": ".py",
   "mimetype": "text/x-python",
   "name": "python",
   "nbconvert_exporter": "python",
   "pygments_lexer": "ipython3",
   "version": "3.11.5"
  }
 },
 "nbformat": 4,
 "nbformat_minor": 2
}
