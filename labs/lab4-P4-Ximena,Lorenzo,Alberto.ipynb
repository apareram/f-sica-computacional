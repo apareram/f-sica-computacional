{
 "cells": [
  {
   "cell_type": "code",
   "execution_count": 116,
   "metadata": {},
   "outputs": [],
   "source": [
    "import random\n",
    "import numpy as np\n",
    "import time"
   ]
  },
  {
   "cell_type": "markdown",
   "metadata": {},
   "source": [
    "### Método del valor medio"
   ]
  },
  {
   "cell_type": "code",
   "execution_count": 117,
   "metadata": {},
   "outputs": [],
   "source": [
    "def valor_medio(f, a, b, n):\n",
    "    x = np.random.uniform(a, b, n)\n",
    "    fx = f(x)\n",
    "    i = ((b - a) / n) * np.sum(fx)\n",
    "    return i"
   ]
  },
  {
   "cell_type": "code",
   "execution_count": 118,
   "metadata": {},
   "outputs": [],
   "source": [
    "def f(x):\n",
    "    return np.sin(1 / (x * (2 - x)))**2"
   ]
  },
  {
   "cell_type": "code",
   "execution_count": 119,
   "metadata": {},
   "outputs": [],
   "source": [
    "a, b = 0.00000001, 1.99999999\n",
    "n = 100000000\n",
    "i_excato = 1.451401485"
   ]
  },
  {
   "cell_type": "code",
   "execution_count": 120,
   "metadata": {},
   "outputs": [],
   "source": [
    "i = valor_medio(f, a, b, n)\n",
    "error_absoluto = np.abs(i - i_excato)"
   ]
  },
  {
   "cell_type": "code",
   "execution_count": 121,
   "metadata": {},
   "outputs": [
    {
     "name": "stdout",
     "output_type": "stream",
     "text": [
      "Valor aproximado de la integral: 1.4513622065616598\n",
      "Error absoluto: 3.927843834028444e-05\n"
     ]
    }
   ],
   "source": [
    "print(\"Valor aproximado de la integral:\", i)\n",
    "print(\"Error absoluto:\", error_absoluto)"
   ]
  },
  {
   "cell_type": "markdown",
   "metadata": {},
   "source": [
    "### Comparando con el metodo asertar y fallar"
   ]
  },
  {
   "cell_type": "code",
   "execution_count": 122,
   "metadata": {},
   "outputs": [],
   "source": [
    "def np2AsertarFallar(f, a, b, c, n,*params):\n",
    "    x = (b - a)*np.random.random(n) + a\n",
    "    y = c*np.random.random(n)\n",
    "    y = y[y < f(x)]\n",
    "    \n",
    "    i = (b - a) * c * (y.size) / n\n",
    "    return i"
   ]
  },
  {
   "cell_type": "code",
   "execution_count": 123,
   "metadata": {},
   "outputs": [
    {
     "name": "stdout",
     "output_type": "stream",
     "text": [
      "I =  1.4515284254847156 eabs =  0.00012694048471550978 erel =  8.746062755717091e-05\n",
      "tiempo de computo =  1.882  s\n"
     ]
    }
   ],
   "source": [
    "startTime = time.process_time()\n",
    "c = 1\n",
    "n = 100000000\n",
    "i = np2AsertarFallar(f, a, b, c, n)\n",
    "eabs = np.abs(i - i_excato)\n",
    "endTime = time.process_time()\n",
    "print('I = ', i,'eabs = ', eabs, 'erel = ',eabs/np.abs(i_excato))\n",
    "print('tiempo de computo = ', round(endTime - startTime, 3), ' s')"
   ]
  },
  {
   "cell_type": "markdown",
   "metadata": {},
   "source": [
    "### Comparando con simpson y trapezoid"
   ]
  },
  {
   "cell_type": "code",
   "execution_count": 124,
   "metadata": {},
   "outputs": [],
   "source": [
    "import scipy.integrate as integrate"
   ]
  },
  {
   "cell_type": "code",
   "execution_count": 125,
   "metadata": {},
   "outputs": [],
   "source": [
    "x = np.linspace(a, b, 100000000)  # Aumenta el número de puntos para mayor precisión\n",
    "# Evaluar la función f en estos puntos x\n",
    "y = f(x)"
   ]
  },
  {
   "cell_type": "code",
   "execution_count": 126,
   "metadata": {},
   "outputs": [],
   "source": [
    "simpson_integral = integrate.simpson(y, x)\n",
    "# Calcular la integral usando el método del trapecio\n",
    "trapezoid_integral = integrate.trapezoid(y, x)"
   ]
  },
  {
   "cell_type": "code",
   "execution_count": 127,
   "metadata": {},
   "outputs": [
    {
     "name": "stdout",
     "output_type": "stream",
     "text": [
      "Resultado con el método de Simpson: 1.4514011516935632\n",
      "Resultado con el método trapezoidal: 1.4514011550053438\n"
     ]
    }
   ],
   "source": [
    "print(\"Resultado con el método de Simpson:\", simpson_integral)\n",
    "print(\"Resultado con el método trapezoidal:\", trapezoid_integral)"
   ]
  },
  {
   "cell_type": "code",
   "execution_count": 128,
   "metadata": {},
   "outputs": [
    {
     "name": "stdout",
     "output_type": "stream",
     "text": [
      "error de simpson: 3.333064368948868e-07\n",
      "error del trapecio: 3.299946562673739e-07\n"
     ]
    }
   ],
   "source": [
    "error_absoluto_s = abs(simpson_integral - i_excato)\n",
    "print(\"error de simpson:\", error_absoluto_s)\n",
    "error_absoluto_t = abs(trapezoid_integral - i_excato)\n",
    "print(\"error del trapecio:\", error_absoluto_t)"
   ]
  },
  {
   "cell_type": "markdown",
   "metadata": {},
   "source": [
    "### Comparando errores"
   ]
  },
  {
   "cell_type": "code",
   "execution_count": 129,
   "metadata": {},
   "outputs": [
    {
     "name": "stdout",
     "output_type": "stream",
     "text": [
      "Error absoluto del valor medio: 3.927843834028444e-05\n",
      "Error absoluto de acertar y fallar: 0.00012694048471550978\n",
      "Error absoluto del metodo Simpson: 3.333064368948868e-07\n",
      "Error absoluto del metodol trapecio: 3.299946562673739e-07\n"
     ]
    }
   ],
   "source": [
    "print(\"Error absoluto del valor medio:\", error_absoluto)\n",
    "print(\"Error absoluto de acertar y fallar:\", eabs)\n",
    "print(\"Error absoluto del metodo Simpson:\", error_absoluto_s)\n",
    "print(\"Error absoluto del metodol trapecio:\", error_absoluto_t)"
   ]
  },
  {
   "cell_type": "markdown",
   "metadata": {},
   "source": [
    "La simulación de Monte Carlo es una técnica matemática que permite estimar el resultado de un problema complejo que puede ser difícil o imposible de resolver por otros métodos. Se basa en la generación de números aleatorios y se utiliza para simular el comportamiento de sistemas complejos.\n",
    "\n",
    "El método de Simpson y el método del trapecio muestran los errores más bajos, ambos del orden de $10^{-7}$, lo cual indica una alta precisión y eficacia para el cálculo de integrales en este contexto específico. El método de Sipson debería ser el que menor error tiene por diferencia pero esto no fue así, esto se debe al malcomportamiento de la función dentro de los límites de integración.\n",
    "\n",
    "Por otro lado, el método del valor medio y el método de acertar y fallar presentan errores mayores, del orden de $10^{-5}$ y $10^{-4}$ respectivamente, lo que sugiere que, aunque son útiles para aproximaciones rápidas, pueden no ser tan precisos como los métodos de Simpson y trapecio para ciertas funciones o intervalos de integración."
   ]
  }
 ],
 "metadata": {
  "kernelspec": {
   "display_name": "base",
   "language": "python",
   "name": "python3"
  },
  "language_info": {
   "codemirror_mode": {
    "name": "ipython",
    "version": 3
   },
   "file_extension": ".py",
   "mimetype": "text/x-python",
   "name": "python",
   "nbconvert_exporter": "python",
   "pygments_lexer": "ipython3",
   "version": "3.11.5"
  }
 },
 "nbformat": 4,
 "nbformat_minor": 2
}
