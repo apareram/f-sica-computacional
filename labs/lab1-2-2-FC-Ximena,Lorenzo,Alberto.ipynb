{
 "cells": [
  {
   "cell_type": "code",
   "execution_count": 1,
   "metadata": {},
   "outputs": [
    {
     "name": "stdout",
     "output_type": "stream",
     "text": [
      "La velocidad media de la partícula es: 2.75 metros por segundo\n"
     ]
    }
   ],
   "source": [
    "# Datos de tiempo y posición de la partícula\n",
    "tiempo = [0, 1, 2, 3, 4]  # Tiempos en segundos\n",
    "posicion = [0, 2, 4, 7, 11]  # Posiciones en metros\n",
    "\n",
    "# Calculamos la velocidad media utilizando bucles\n",
    "velocidad_media = 0.0\n",
    "for i in range(1, len(tiempo)):\n",
    "    delta_t = tiempo[i] - tiempo[i-1]\n",
    "    delta_x = posicion[i] - posicion[i-1]\n",
    "    velocidad_media += delta_x / delta_t\n",
    "\n",
    "velocidad_media /= (len(tiempo) - 1)\n",
    "\n",
    "print(\"La velocidad media de la partícula es:\", velocidad_media, \"metros por segundo\")\n"
   ]
  },
  {
   "cell_type": "markdown",
   "metadata": {},
   "source": [
    "Este código calcula la velocidad media de una partícula utilizando los conceptos básicos de la física, dividiendo los cambios en la posición entre intervalos de tiempo por los cambios en el tiempo. Luego, acumula estas velocidades instantáneas y divide la suma por el número de intervalos para obtener la velocidad media."
   ]
  }
 ],
 "metadata": {
  "kernelspec": {
   "display_name": "base",
   "language": "python",
   "name": "python3"
  },
  "language_info": {
   "codemirror_mode": {
    "name": "ipython",
    "version": 3
   },
   "file_extension": ".py",
   "mimetype": "text/x-python",
   "name": "python",
   "nbconvert_exporter": "python",
   "pygments_lexer": "ipython3",
   "version": "3.11.5"
  }
 },
 "nbformat": 4,
 "nbformat_minor": 2
}
