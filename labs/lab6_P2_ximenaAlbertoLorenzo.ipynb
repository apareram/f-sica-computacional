{
 "cells": [
  {
   "cell_type": "code",
   "execution_count": 110,
   "metadata": {},
   "outputs": [],
   "source": [
    "import numpy as np\n",
    "import matplotlib.pyplot as plt\n",
    "from sklearn.linear_model import LinearRegression"
   ]
  },
  {
   "cell_type": "markdown",
   "metadata": {},
   "source": [
    "# 1"
   ]
  },
  {
   "cell_type": "code",
   "execution_count": 111,
   "metadata": {},
   "outputs": [],
   "source": [
    "def xy_a_s(x, y, L):\n",
    "    return y * L + x\n",
    "\n",
    "def s_a_xy(s, L):\n",
    "    return s % L, s // L\n",
    "\n",
    "def vecino(s, j, L, empty):\n",
    "    if j == 0:  \n",
    "        if s % L == L - 1:\n",
    "            return empty\n",
    "        else:\n",
    "            return s + 1\n",
    "    elif j == 1:  \n",
    "        if s // L == L - 1:\n",
    "            return empty\n",
    "        else:\n",
    "            return s + L\n",
    "    elif j == 2:  \n",
    "        if s % L == 0:\n",
    "            return empty\n",
    "        else:\n",
    "            return s - 1\n",
    "    elif j == 3:  \n",
    "        if s // L == 0:\n",
    "            return empty\n",
    "        else:\n",
    "            return s - L\n",
    "\n",
    "def boundaries(L, N, empty):\n",
    "    nn = np.zeros((N, 4), dtype=int)\n",
    "    for s in range(N):\n",
    "        for j in range(4):\n",
    "            nn[s, j] = vecino(s, j, L, empty)\n",
    "    return nn"
   ]
  },
  {
   "cell_type": "code",
   "execution_count": 112,
   "metadata": {},
   "outputs": [],
   "source": [
    "def HLA(L, N, p, nn, empty):\n",
    "    site = np.zeros(N, dtype=np.short)\n",
    "    \n",
    "    xseed, yseed = L // 2, L // 2\n",
    "    sseed = xy_a_s(xseed, yseed, L)\n",
    "    site[sseed] = 1  \n",
    "    cluster = np.array([sseed])\n",
    "    \n",
    "    per = np.array([nn[sseed, j] for j in range(4) if nn[sseed, j] != empty], dtype=int)\n",
    "    site[per] = 2  \n",
    "    \n",
    "    while len(per) > 0:\n",
    "        index = np.random.randint(len(per))\n",
    "        snew = per[index]\n",
    "        per = np.delete(per, index)\n",
    "        escPer = np.random.random()\n",
    "        if escPer < p:\n",
    "            site[snew] = 1  \n",
    "            cluster = np.append(cluster, snew)\n",
    "            for j in range(4):\n",
    "                sper = nn[snew, j]\n",
    "                if sper != empty and site[sper] == 0:\n",
    "                    per = np.append(per, sper)\n",
    "                    site[sper] = 2  \n",
    "        else:\n",
    "            site[snew] = empty\n",
    "        \n",
    "    return site, cluster"
   ]
  },
  {
   "cell_type": "code",
   "execution_count": 113,
   "metadata": {},
   "outputs": [
    {
     "name": "stdout",
     "output_type": "stream",
     "text": [
      "[[  1  16  -1  -1]\n",
      " [  2  17   0  -1]\n",
      " [  3  18   1  -1]\n",
      " ...\n",
      " [254  -1 252 237]\n",
      " [255  -1 253 238]\n",
      " [ -1  -1 254 239]]\n",
      "[136 137 153 121 152 154 138 122 123 124 125 106 126 141 110 140 139 156\n",
      " 157 158 174 173 189 159 143 205 206 175 221 237 191 207 238 236 239 235\n",
      " 219 218 203 234 254 251 250 217 201 249 216 185 215 184 199 248 231 247\n",
      " 198 182 246 166 165 149 133 134 118 119 132 103 150 116 100 131 130 115\n",
      "  87 129 101  71 114  70 128  54  69  86  55  84 113  72  98  53  38  52\n",
      "  36  82  20  51  67  88  89  73  22  74  66  23  35  58  57  42  75  34\n",
      "  41  40  76  25   9  60  92  18  61  93  77  45  29  26  33  27  62  13\n",
      "  14]\n",
      "[ 0  0 -1  0 -1  0 -1 -1 -1  1 -1 -1 -1  1  1 -1  0 -1  1 -1  1 -1  1  1\n",
      " -1  1  1  1 -1  1 -1  0 -1  1  1  1  1 -1  1 -1  1  1  1 -1 -1  1 -1  0\n",
      "  0 -1 -1  1  1  1  1  1 -1  1  1 -1  1  1  1 -1  0 -1  1  1 -1  1  1  1\n",
      "  1  1  1  1  1  1 -1  0  0 -1  1 -1  1 -1  1  1  1  1 -1 -1  1  1 -1  0\n",
      "  0 -1  1 -1  1  1 -1  1 -1 -1  1 -1 -1 -1  1 -1 -1  1  1  1  1 -1  1  1\n",
      " -1  1  1  1  1  1  1 -1  1  1  1  1  1  1  1 -1  1  1  1  1  1  1 -1  1\n",
      " -1 -1 -1 -1 -1  1  1 -1  1  1  1 -1  1  1  1  1  0  0  0  0 -1  1  1 -1\n",
      " -1 -1 -1  0 -1  1  1  1  0  0  0  0  0 -1  1 -1  1  1 -1 -1 -1  1 -1  1\n",
      "  0  0  0  0  0 -1  1  1 -1  1 -1  1 -1  1  1  1  0  0  0  0  0  0 -1  1\n",
      "  1  1  1  1 -1  1 -1 -1  0  0  0  0  0  0 -1  1 -1 -1  1  1  1  1  1  1\n",
      "  0  0  0  0  0 -1  1  1  1  1  1  1 -1 -1  1 -1]\n"
     ]
    },
    {
     "data": {
      "image/png": "[encoded data removed]",
      "text/plain": [
       "<Figure size 640x480 with 1 Axes>"
      ]
     },
     "metadata": {},
     "output_type": "display_data"
    }
   ],
   "source": [
    "L = 16\n",
    "p = 0.59275\n",
    "N = L * L\n",
    "empty = -1\n",
    "\n",
    "nn = boundaries(L, N, empty)\n",
    "\n",
    "site, cluster = HLA(L, N, p, nn, empty)\n",
    "\n",
    "print(nn)\n",
    "print(cluster)\n",
    "print(site)\n",
    "\n",
    "ncluster = np.array([s_a_xy(s, L) for s in cluster])\n",
    "\n",
    "fig, ax = plt.subplots()\n",
    "ax.plot(ncluster[:, 0], ncluster[:, 1], 'bo')\n",
    "plt.show()\n"
   ]
  },
  {
   "cell_type": "code",
   "execution_count": 114,
   "metadata": {},
   "outputs": [
    {
     "name": "stderr",
     "output_type": "stream",
     "text": [
      "/var/folders/yv/xkr121fn6sg196g8ytf0bq3m0000gn/T/ipykernel_22187/929198595.py:4: UserWarning: Setting the 'color' property will override the edgecolor or facecolor properties.\n",
      "  rect = plt.Rectangle((x, y), 1, 1, color='r', edgecolor='k')\n"
     ]
    },
    {
     "data": {
      "image/png": "[encoded data removed]",
      "text/plain": [
       "<Figure size 900x900 with 1 Axes>"
      ]
     },
     "metadata": {},
     "output_type": "display_data"
    }
   ],
   "source": [
    "fig = plt.figure(figsize=(9,9))\n",
    "ax = fig.add_subplot(1,1,1)\n",
    "for x, y in ncluster:\n",
    "    rect = plt.Rectangle((x, y), 1, 1, color='r', edgecolor='k')\n",
    "    ax.add_patch(rect)\n",
    "\n",
    "plt.xlim(0, L)\n",
    "plt.ylim(0, L)\n",
    "plt.show()"
   ]
  },
  {
   "cell_type": "markdown",
   "metadata": {},
   "source": [
    "# 2"
   ]
  },
  {
   "cell_type": "code",
   "execution_count": 115,
   "metadata": {},
   "outputs": [],
   "source": [
    "def MassDist(L, cluster):\n",
    "    cluster_coords = np.array([s_a_xy(s, L) for s in cluster])\n",
    "    xCluster, yCluster = cluster_coords[:, 0], cluster_coords[:, 1]\n",
    "    \n",
    "    Ncluster = xCluster.size\n",
    "\n",
    "    xcm = xCluster[:Ncluster].mean()\n",
    "    ycm = yCluster[:Ncluster].mean()\n",
    "\n",
    "    dx = xCluster[:Ncluster] - xcm\n",
    "    dy = yCluster[:Ncluster] - ycm\n",
    "    dr = np.sqrt(dx*dx + dy*dy)\n",
    "\n",
    "    mass_dis = []\n",
    "    r = []\n",
    "    \n",
    "    imax = int(np.log2(L))\n",
    "    for i in range(1, imax):\n",
    "        mass_dis.append(dr[dr < (2**i)].size)\n",
    "        r.append(2**i)\n",
    "\n",
    "    return np.array(r), np.array(mass_dis)"
   ]
  },
  {
   "cell_type": "code",
   "execution_count": 116,
   "metadata": {},
   "outputs": [],
   "source": [
    "def MassDist2(L, cluster):\n",
    "    cluster_coords = np.array([s_a_xy(s, L) for s in cluster])\n",
    "    xCluster, yCluster = cluster_coords[:, 0], cluster_coords[:, 1]\n",
    "    \n",
    "    xcm = np.mean(xCluster)\n",
    "    ycm = np.mean(yCluster)\n",
    "    \n",
    "    dx = xCluster - xcm\n",
    "    dy = yCluster - ycm\n",
    "    dr = np.sqrt(dx**2 + dy**2)\n",
    "    \n",
    "    r_values = np.arange(1, L//2)\n",
    "    mass_dis = np.zeros_like(r_values, dtype=float)\n",
    "    \n",
    "    for i, r in enumerate(r_values):\n",
    "        mass_dis[i] = np.sum(dr < r)\n",
    "        \n",
    "    return r_values, mass_dis"
   ]
  },
  {
   "cell_type": "code",
   "execution_count": 117,
   "metadata": {},
   "outputs": [],
   "source": [
    "def lineFit(x, y):\n",
    "    xavg = x.mean()\n",
    "    slope = (y * (x - xavg)).sum() / (x * (x - xavg)).sum()\n",
    "    yint = y.mean() - slope * xavg\n",
    "    return slope, yint"
   ]
  },
  {
   "cell_type": "code",
   "execution_count": 118,
   "metadata": {},
   "outputs": [],
   "source": [
    "def correr(L, N, p, nn, empty, num_realizaciones):\n",
    "    massDtot = []\n",
    "\n",
    "    for _ in range(num_realizaciones):\n",
    "        site, cluster = HLA(L, N, p, nn, empty)\n",
    "        r, massD = MassDist(L, cluster)\n",
    "        massDtot.append(massD)\n",
    "\n",
    "    # Average the mass distributions\n",
    "    massDprom = np.mean(massDtot, axis=0)\n",
    "    \n",
    "    return r, massDprom"
   ]
  },
  {
   "cell_type": "code",
   "execution_count": 119,
   "metadata": {},
   "outputs": [],
   "source": [
    "def correr2(L, N, p, nn, empty, num_realizaciones):\n",
    "    massDtot = []\n",
    "\n",
    "    for _ in range(num_realizaciones):\n",
    "        site, cluster = HLA(L, N, p, nn, empty)\n",
    "        r, massD = MassDist2(L, cluster)\n",
    "        massDtot.append(massD)\n",
    "\n",
    "    # Average the mass distributions\n",
    "    massDprom = np.mean(massDtot, axis=0)\n",
    "    \n",
    "    return r, massDprom"
   ]
  },
  {
   "cell_type": "code",
   "execution_count": 120,
   "metadata": {},
   "outputs": [],
   "source": [
    "L = 16\n",
    "p = 0.59275\n",
    "N = L * L\n",
    "empty = -1\n",
    "realizaciones = 100\n",
    "nn = boundaries(L, N, empty)\n",
    "\n",
    "r, massDprom = correr(L, N, p, nn, empty, realizaciones)\n",
    "r2, massDprom2 = correr2(L, N, p, nn, empty, realizaciones)"
   ]
  },
  {
   "cell_type": "code",
   "execution_count": 121,
   "metadata": {},
   "outputs": [
    {
     "name": "stdout",
     "output_type": "stream",
     "text": [
      "dimension fractal = 1.64, error = 13.0 %\n"
     ]
    }
   ],
   "source": [
    "slope, corte = lineFit(np.log(r),np.log(massDprom))\n",
    "error = np.abs((slope-1.89)/1.89)*100\n",
    "print('dimension fractal = {}, error = {} %'.format(round(slope,2),round(error,1)))"
   ]
  },
  {
   "cell_type": "code",
   "execution_count": 122,
   "metadata": {},
   "outputs": [
    {
     "data": {
      "text/plain": [
       "Text(2, 70.749, '$d_f =$ 1.64')"
      ]
     },
     "execution_count": 122,
     "metadata": {},
     "output_type": "execute_result"
    },
    {
     "data": {
      "image/png": "[encoded data removed]",
      "text/plain": [
       "<Figure size 800x600 with 1 Axes>"
      ]
     },
     "metadata": {},
     "output_type": "display_data"
    }
   ],
   "source": [
    "plt.figure(figsize=(8,6))\n",
    "plt.loglog(r, massDprom, 'bo')\n",
    "plt.plot(r, np.exp(corte) * r**slope, color = 'red', dashes = (3,1))\n",
    "plt.xlabel(r'$r$',fontsize = 24)\n",
    "plt.ylabel(r'$M$',fontsize = 24)\n",
    "plt.text(r.min(), 0.9 * massDprom.max(),r'$d_f =$ {}'.format(round(slope,2)), fontsize = 18)"
   ]
  },
  {
   "cell_type": "code",
   "execution_count": 123,
   "metadata": {},
   "outputs": [
    {
     "name": "stdout",
     "output_type": "stream",
     "text": [
      "Fractal dimension = 1.81, error = 4.2 %\n"
     ]
    }
   ],
   "source": [
    "slope2, intercept2 = lineFit(np.log(r2), np.log(massDprom2))\n",
    "error2 = np.abs((slope2 - 1.89) / 1.89) * 100\n",
    "print('Fractal dimension = {}, error = {} %'.format(round(slope2, 2), round(error2, 1)))"
   ]
  },
  {
   "cell_type": "code",
   "execution_count": 124,
   "metadata": {},
   "outputs": [
    {
     "data": {
      "image/png": "[encoded data removed]",
      "text/plain": [
       "<Figure size 800x600 with 1 Axes>"
      ]
     },
     "metadata": {},
     "output_type": "display_data"
    }
   ],
   "source": [
    "plt.figure(figsize=(8, 6))\n",
    "plt.loglog(r2, massDprom2, 'bo')\n",
    "plt.plot(r2, np.exp(intercept2) * r2**slope2, color='red', dashes=(3, 1))\n",
    "plt.xlabel(r'$r$', fontsize=24)\n",
    "plt.ylabel(r'$M$', fontsize=24)\n",
    "plt.text(r2.min(), 0.9 * massDprom2.max(), r'$d_f =$ {}'.format(round(slope2, 2)), fontsize=18)\n",
    "plt.show()"
   ]
  },
  {
   "cell_type": "markdown",
   "metadata": {},
   "source": [
    "# 3"
   ]
  },
  {
   "cell_type": "code",
   "execution_count": 125,
   "metadata": {},
   "outputs": [],
   "source": [
    "def box_counting(x, y, L, df_teórico=None):\n",
    "    sizes = np.power(2, np.arange(1, np.log2(L//2).astype(int) + 1))\n",
    "    counts = []\n",
    "    \n",
    "    for size in sizes:\n",
    "        nl = L // size\n",
    "        grid = np.zeros((nl, nl), dtype=bool)\n",
    "        x_indices = (x // size).astype(int)\n",
    "        y_indices = (y // size).astype(int)\n",
    "        grid[y_indices, x_indices] = True\n",
    "        counts.append(np.sum(grid))\n",
    "\n",
    "    log_sizes = np.log(sizes)\n",
    "    log_counts = np.log(counts)\n",
    "\n",
    "    model = LinearRegression()\n",
    "    model.fit(log_sizes.reshape(-1, 1), log_counts)\n",
    "    slope = -model.coef_[0]\n",
    "\n",
    "    error = 0\n",
    "    if df_teórico:\n",
    "        error = np.abs((slope - df_teórico) / df_teórico) * 100\n",
    "\n",
    "    return slope, error"
   ]
  },
  {
   "cell_type": "code",
   "execution_count": 126,
   "metadata": {},
   "outputs": [
    {
     "name": "stdout",
     "output_type": "stream",
     "text": [
      "Estimated fractal dimension: 1.8639602272815994, Error: 1.38%\n"
     ]
    }
   ],
   "source": [
    "L = 16\n",
    "p = 0.59275\n",
    "N = L * L\n",
    "empty = -1\n",
    "nn = boundaries(L, N, empty)  \n",
    "\n",
    "site, cluster = HLA(L, N, p, nn, empty)\n",
    "ncluster = np.array([s_a_xy(s, L) for s in cluster])\n",
    "\n",
    "df_teórico = 1.89\n",
    "df_estimado, error = box_counting(ncluster[:, 0], ncluster[:, 1], L, df_teórico)\n",
    "print(f'Dimensión Fractal: {df_estimado}, Error: {error:.2f}%')"
   ]
  },
  {
   "cell_type": "code",
   "execution_count": 132,
   "metadata": {},
   "outputs": [
    {
     "data": {
      "image/png": "[encoded data removed]",
      "text/plain": [
       "<Figure size 900x900 with 1 Axes>"
      ]
     },
     "metadata": {},
     "output_type": "display_data"
    }
   ],
   "source": [
    "tamaño_caja = 1  \n",
    "fig = plt.figure(figsize=(9, 9))\n",
    "ax = fig.add_subplot(1, 1, 1)\n",
    "\n",
    "for x, y in ncluster:\n",
    "    rect = plt.Rectangle((x, y), tamaño_caja, tamaño_caja, color='r')\n",
    "    ax.add_patch(rect)\n",
    "\n",
    "ax.set_xlim([0, L])\n",
    "ax.set_ylim([0, L])\n",
    "\n",
    "for i in range(0, L, 2**5):\n",
    "    ax.axhline(i, color='black', dashes=(1, 2), zorder=1)\n",
    "    ax.axvline(i, color='black', dashes=(1, 2), zorder=1)\n",
    "\n",
    "plt.show()"
   ]
  },
  {
   "cell_type": "markdown",
   "metadata": {},
   "source": [
    "## Comparando resultados"
   ]
  },
  {
   "cell_type": "code",
   "execution_count": 128,
   "metadata": {},
   "outputs": [
    {
     "name": "stdout",
     "output_type": "stream",
     "text": [
      "Anillos concéntricos\n",
      "Fractal dimension = 1.81, error = 4.2 %\n",
      "Box counting\n",
      "Dimensión Fractal: 1.8639602272815994, Error: 1.38%\n"
     ]
    }
   ],
   "source": [
    "print(\"Anillos concéntricos\")\n",
    "print('Fractal dimension = {}, error = {} %'.format(round(slope2, 2), round(error2, 1)))\n",
    "\n",
    "print(\"Box counting\")\n",
    "print(f'Dimensión Fractal: {df_estimado}, Error: {error:.2f}%')"
   ]
  },
  {
   "cell_type": "markdown",
   "metadata": {},
   "source": [
    "En general el método de conteo de cajas es más eficiente para manejar grandes conjuntos de datos, ya que principalmente implica contar cajas ocupadas.\n",
    "\n",
    "Esto hace que el método de conteo de cajas sea más práctico para estudios de dimensiones fractales, especialmente en investigaciones donde la estructura del fractal no es uniformemente radial o se manejan grandes volúmenes de datos."
   ]
  }
 ],
 "metadata": {
  "kernelspec": {
   "display_name": "base",
   "language": "python",
   "name": "python3"
  },
  "language_info": {
   "codemirror_mode": {
    "name": "ipython",
    "version": 3
   },
   "file_extension": ".py",
   "mimetype": "text/x-python",
   "name": "python",
   "nbconvert_exporter": "python",
   "pygments_lexer": "ipython3",
   "version": "3.11.5"
  }
 },
 "nbformat": 4,
 "nbformat_minor": 2
}
