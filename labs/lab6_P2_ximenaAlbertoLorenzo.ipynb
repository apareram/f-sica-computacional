{
 "cells": [
  {
   "cell_type": "code",
   "execution_count": 82,
   "metadata": {},
   "outputs": [],
   "source": [
    "import numpy as np\n",
    "import matplotlib.pyplot as plt"
   ]
  },
  {
   "cell_type": "code",
   "execution_count": 83,
   "metadata": {},
   "outputs": [],
   "source": [
    "def xy_a_s(x, y, L):\n",
    "    return y * L + x\n",
    "\n",
    "def s_a_xy(s, L):\n",
    "    return s % L, s // L\n",
    "\n",
    "def vecino(s, j, L, empty):\n",
    "    if j == 0:  \n",
    "        if s % L == L - 1:\n",
    "            return empty\n",
    "        else:\n",
    "            return s + 1\n",
    "    elif j == 1:  \n",
    "        if s // L == L - 1:\n",
    "            return empty\n",
    "        else:\n",
    "            return s + L\n",
    "    elif j == 2:  \n",
    "        if s % L == 0:\n",
    "            return empty\n",
    "        else:\n",
    "            return s - 1\n",
    "    elif j == 3:  \n",
    "        if s // L == 0:\n",
    "            return empty\n",
    "        else:\n",
    "            return s - L\n",
    "\n",
    "def boundaries(L, N, empty):\n",
    "    nn = np.zeros((N, 4), dtype=int)\n",
    "    for s in range(N):\n",
    "        for j in range(4):\n",
    "            nn[s, j] = vecino(s, j, L, empty)\n",
    "    return nn"
   ]
  },
  {
   "cell_type": "code",
   "execution_count": 84,
   "metadata": {},
   "outputs": [],
   "source": [
    "def HLA(L, N, p, nn, empty):\n",
    "    site = np.zeros(N, dtype=np.short)\n",
    "    \n",
    "    xseed, yseed = L // 2, L // 2\n",
    "    sseed = xy_a_s(xseed, yseed, L)\n",
    "    site[sseed] = 1  \n",
    "    cluster = np.array([sseed])\n",
    "    \n",
    "    per = np.array([nn[sseed, j] for j in range(4) if nn[sseed, j] != empty], dtype=int)\n",
    "    site[per] = 2  \n",
    "    \n",
    "    while len(per) > 0:\n",
    "        index = np.random.randint(len(per))\n",
    "        snew = per[index]\n",
    "        per = np.delete(per, index)\n",
    "        escPer = np.random.random()\n",
    "        if escPer < p:\n",
    "            site[snew] = 1  \n",
    "            cluster = np.append(cluster, snew)\n",
    "            for j in range(4):\n",
    "                sper = nn[snew, j]\n",
    "                if sper != empty and site[sper] == 0:\n",
    "                    per = np.append(per, sper)\n",
    "                    site[sper] = 2  \n",
    "        else:\n",
    "            site[snew] = empty\n",
    "        \n",
    "    return site, cluster"
   ]
  },
  {
   "cell_type": "code",
   "execution_count": 85,
   "metadata": {},
   "outputs": [
    {
     "name": "stdout",
     "output_type": "stream",
     "text": [
      "[[  1  16  -1  -1]\n",
      " [  2  17   0  -1]\n",
      " [  3  18   1  -1]\n",
      " ...\n",
      " [254  -1 252 237]\n",
      " [255  -1 253 238]\n",
      " [ -1  -1 254 239]]\n",
      "[136 135 151 167 134 133 168 149 183 182 198 181 214 197 180 215 231 179\n",
      " 213 212 216 217 229 201 202 233 200]\n",
      "[ 0  0  0  0  0  0  0  0  0  0  0  0  0  0  0  0  0  0  0  0  0  0  0  0\n",
      "  0  0  0  0  0  0  0  0  0  0  0  0  0  0  0  0  0  0  0  0  0  0  0  0\n",
      "  0  0  0  0  0  0  0  0  0  0  0  0  0  0  0  0  0  0  0  0  0  0  0  0\n",
      "  0  0  0  0  0  0  0  0  0  0  0  0  0  0  0  0  0  0  0  0  0  0  0  0\n",
      "  0  0  0  0  0  0  0  0  0  0  0  0  0  0  0  0  0  0  0  0  0 -1 -1 -1\n",
      " -1  0  0  0  0  0  0  0  0  0  0  0 -1  1  1  1  1 -1  0  0  0  0  0  0\n",
      "  0  0  0  0 -1  1 -1  1 -1  0  0  0  0  0  0  0  0  0  0 -1 -1 -1 -1  1\n",
      "  1 -1  0  0  0  0  0  0  0  0 -1  1  1  1  1  1 -1 -1 -1  0  0  0  0  0\n",
      "  0  0  0 -1 -1  1  1 -1  1  1  1 -1  0  0  0  0  0  0  0 -1  1  1  1  1\n",
      "  1  1 -1  0  0  0  0  0  0  0  0  0 -1  1 -1  1 -1  1 -1  0  0  0  0  0\n",
      "  0  0  0  0  0 -1  0 -1  0 -1  0  0  0  0  0  0]\n"
     ]
    },
    {
     "data": {
      "image/png": "[encoded data removed]",
      "text/plain": [
       "<Figure size 640x480 with 1 Axes>"
      ]
     },
     "metadata": {},
     "output_type": "display_data"
    }
   ],
   "source": [
    "L = 16\n",
    "p = 0.59275\n",
    "N = L * L\n",
    "empty = -1\n",
    "\n",
    "nn = boundaries(L, N, empty)\n",
    "\n",
    "site, cluster = HLA(L, N, p, nn, empty)\n",
    "\n",
    "print(nn)\n",
    "print(cluster)\n",
    "print(site)\n",
    "\n",
    "ncluster = np.array([s_a_xy(s, L) for s in cluster])\n",
    "\n",
    "fig, ax = plt.subplots()\n",
    "ax.plot(ncluster[:, 0], ncluster[:, 1], 'bo')\n",
    "plt.show()\n"
   ]
  },
  {
   "cell_type": "code",
   "execution_count": 86,
   "metadata": {},
   "outputs": [
    {
     "name": "stderr",
     "output_type": "stream",
     "text": [
      "/var/folders/yv/xkr121fn6sg196g8ytf0bq3m0000gn/T/ipykernel_74556/929198595.py:4: UserWarning: Setting the 'color' property will override the edgecolor or facecolor properties.\n",
      "  rect = plt.Rectangle((x, y), 1, 1, color='r', edgecolor='k')\n"
     ]
    },
    {
     "data": {
      "image/png": "[encoded data removed]",
      "text/plain": [
       "<Figure size 900x900 with 1 Axes>"
      ]
     },
     "metadata": {},
     "output_type": "display_data"
    }
   ],
   "source": [
    "fig = plt.figure(figsize=(9,9))\n",
    "ax = fig.add_subplot(1,1,1)\n",
    "for x, y in ncluster:\n",
    "    rect = plt.Rectangle((x, y), 1, 1, color='r', edgecolor='k')\n",
    "    ax.add_patch(rect)\n",
    "\n",
    "plt.xlim(0, L)\n",
    "plt.ylim(0, L)\n",
    "plt.show()"
   ]
  },
  {
   "cell_type": "code",
   "execution_count": 87,
   "metadata": {},
   "outputs": [],
   "source": [
    "def MassDist(L, cluster):\n",
    "    # Convert cluster indices to 2D coordinates\n",
    "    cluster_coords = np.array([s_a_xy(s, L) for s in cluster])\n",
    "    xCluster, yCluster = cluster_coords[:, 0], cluster_coords[:, 1]\n",
    "    \n",
    "    Ncluster = xCluster.size\n",
    "    xcm = xCluster[:Ncluster].mean()\n",
    "    ycm = yCluster[:Ncluster].mean()\n",
    "    dx = xCluster[:Ncluster] - xcm\n",
    "    dy = yCluster[:Ncluster] - ycm\n",
    "    dr = np.sqrt(dx*dx + dy*dy)\n",
    "    massinside = []\n",
    "    r = []\n",
    "    imax = int(np.log2(L))\n",
    "    for i in range(1, imax):\n",
    "        massinside.append(dr[dr < (2**i)].size)\n",
    "        r.append(2**i)\n",
    "    return np.array(r), np.array(massinside)"
   ]
  },
  {
   "cell_type": "code",
   "execution_count": 88,
   "metadata": {},
   "outputs": [],
   "source": [
    "r, M = MassDist(L,cluster)"
   ]
  },
  {
   "cell_type": "code",
   "execution_count": 89,
   "metadata": {},
   "outputs": [],
   "source": [
    "def lineFit(x, y):\n",
    "    xavg = x.mean()\n",
    "    slope = (y * (x - xavg)).sum() / (x * (x - xavg)).sum()\n",
    "    yint = y.mean() - slope * xavg\n",
    "    return slope, yint"
   ]
  },
  {
   "cell_type": "code",
   "execution_count": 90,
   "metadata": {},
   "outputs": [],
   "source": [
    "slope, corte = lineFit(np.log(r),np.log(M))\n",
    "error = np.abs((slope-1.89)/1.89)*100"
   ]
  },
  {
   "cell_type": "code",
   "execution_count": 91,
   "metadata": {},
   "outputs": [
    {
     "name": "stdout",
     "output_type": "stream",
     "text": [
      "dimension fractal = 0.72, error = 62.1 %\n"
     ]
    }
   ],
   "source": [
    "print('dimension fractal = {}, error = {} %'.format(round(slope,2),round(error,1)))"
   ]
  },
  {
   "cell_type": "code",
   "execution_count": 92,
   "metadata": {},
   "outputs": [
    {
     "data": {
      "text/plain": [
       "Text(2, 24.3, '$d_f =$ 0.72')"
      ]
     },
     "execution_count": 92,
     "metadata": {},
     "output_type": "execute_result"
    },
    {
     "data": {
      "image/png": "[encoded data removed]",
      "text/plain": [
       "<Figure size 800x600 with 1 Axes>"
      ]
     },
     "metadata": {},
     "output_type": "display_data"
    }
   ],
   "source": [
    "plt.figure(figsize=(8,6))\n",
    "plt.loglog(r,M,'bo')\n",
    "plt.plot(r,np.exp(corte)*r**slope,color = 'red',dashes = (3,1))\n",
    "plt.xlabel(r'$r$',fontsize = 24)\n",
    "plt.ylabel(r'$M$',fontsize = 24)\n",
    "plt.text(r.min(),0.9*M.max(),r'$d_f =$ {}'.format(round(slope,2)),fontsize = 18)"
   ]
  }
 ],
 "metadata": {
  "kernelspec": {
   "display_name": "base",
   "language": "python",
   "name": "python3"
  },
  "language_info": {
   "codemirror_mode": {
    "name": "ipython",
    "version": 3
   },
   "file_extension": ".py",
   "mimetype": "text/x-python",
   "name": "python",
   "nbconvert_exporter": "python",
   "pygments_lexer": "ipython3",
   "version": "3.11.5"
  }
 },
 "nbformat": 4,
 "nbformat_minor": 2
}
