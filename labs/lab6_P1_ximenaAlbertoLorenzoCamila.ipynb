{
 "cells": [
  {
   "cell_type": "code",
   "execution_count": 1,
   "metadata": {},
   "outputs": [],
   "source": [
    "import numpy as np\n",
    "import matplotlib.pyplot as plt"
   ]
  },
  {
   "cell_type": "code",
   "execution_count": 2,
   "metadata": {},
   "outputs": [],
   "source": [
    "def xy_a_s(x, y, L):\n",
    "    return y * L + x\n",
    "\n",
    "def s_a_xy(s, L):\n",
    "    return s % L, s // L\n",
    "\n",
    "def vecino(s, j, L):\n",
    "    if j == 0:  \n",
    "        if s % L == L - 1:\n",
    "            return empty\n",
    "        else:\n",
    "            return s + 1\n",
    "    elif j == 1:  \n",
    "        if s // L == L - 1:\n",
    "            return empty\n",
    "        else:\n",
    "            return s + L\n",
    "    elif j == 2:  \n",
    "        if s % L == 0:\n",
    "            return empty\n",
    "        else:\n",
    "            return s - 1\n",
    "    elif j == 3:  \n",
    "        if s // L == 0:\n",
    "            return empty\n",
    "        else:\n",
    "            return s - L\n",
    "\n",
    "def boundaries(L):\n",
    "    N = L * L\n",
    "    nn = np.zeros((N, 4), dtype=int)\n",
    "    for s in range(N):\n",
    "        for j in range(4):\n",
    "            nn[s, j] = vecino(s, j, L)\n",
    "    return nn"
   ]
  },
  {
   "cell_type": "code",
   "execution_count": 3,
   "metadata": {},
   "outputs": [],
   "source": [
    "def HLA(L, p):\n",
    "    N = L * L\n",
    "    site = np.full(N, empty, dtype=np.short)  \n",
    "    \n",
    "    nn = boundaries(L) \n",
    "    \n",
    "    xseed, yseed = L // 2, L // 2\n",
    "    sseed = xy_a_s(xseed, yseed, L)\n",
    "    site[sseed] = 1  \n",
    "    cluster = np.array([sseed])\n",
    "    \n",
    "    per = np.array([nn[sseed, j] for j in range(4) if nn[sseed, j] != empty], dtype=int)\n",
    "    site[per] = 2  \n",
    "    \n",
    "    while len(per) > 0:\n",
    "        index = np.random.randint(len(per))\n",
    "        snew = per[index]\n",
    "        per = np.delete(per, index)\n",
    "        escPer = np.random.random()\n",
    "        if escPer < p:\n",
    "            site[snew] = 1  \n",
    "            cluster = np.append(cluster, snew)\n",
    "            for j in range(4):\n",
    "                snewper = nn[snew, j]\n",
    "                if snewper != empty and site[snewper] == empty:\n",
    "                    per = np.append(per, snewper)\n",
    "                    site[snewper] = 2  \n",
    "        else:\n",
    "            site[snew] = empty\n",
    "        \n",
    "    return site, cluster, nn"
   ]
  },
  {
   "cell_type": "code",
   "execution_count": 22,
   "metadata": {},
   "outputs": [
    {
     "name": "stdout",
     "output_type": "stream",
     "text": [
      "[[  1  16  -1  -1]\n",
      " [  2  17   0  -1]\n",
      " [  3  18   1  -1]\n",
      " ...\n",
      " [254  -1 252 237]\n",
      " [255  -1 253 238]\n",
      " [ -1  -1 254 239]]\n",
      "[-1 -1  1 -1 -1 -1 -1 -1 -1 -1 -1 -1 -1 -1  1  1 -1 -1  1  1  1 -1 -1  1\n",
      " -1 -1 -1 -1  1  1  1  1  1  1  1  1  1  1  1  1 -1 -1 -1  1  1  1  1  1\n",
      "  1  1  1  1  1 -1  1  1  1  1  1  1  1  1  1  1  1  1  1  1  1  1  1  1\n",
      "  1  1  1  1  1  1  1  1  1  1  1  1  1  1  1  1  1  1  1  1  1  1 -1 -1\n",
      " -1  1  1  1  1  1  1  1  1  1  1  1  1  1  1  1 -1  1  1  1  1  1  1  1\n",
      "  1  1  1  1  1  1  1  1  1  1  1 -1  1  1 -1  1  1  1  1  1  1  1  1  1\n",
      "  1  1  1 -1  1  1  1  1  1  1  1  1 -1  1  1  1  1  1  1  1  1  1  1  1\n",
      "  1  1  1  1  1  1  1  1  1  1  1  1  1  1  1  1  1 -1  1  1  1  1 -1  1\n",
      "  1  1  1  1  1  1  1  1  1  1  1  1  1  1 -1  1  1  1  1  1  1  1  1  1\n",
      " -1 -1  1  1  1  1 -1  1  1  1  1  1 -1 -1 -1  1  1  1  1  1  1  1  1  1\n",
      "  1  1  1  1  1 -1 -1  1 -1 -1  1 -1  1  1  1  1]\n"
     ]
    },
    {
     "data": {
      "image/png": "[encoded data removed]",
      "text/plain": [
       "<Figure size 640x480 with 1 Axes>"
      ]
     },
     "metadata": {},
     "output_type": "display_data"
    }
   ],
   "source": [
    "L = 16\n",
    "p = 0.59275\n",
    "empty = -1\n",
    "\n",
    "site, cluster, nn = HLA(L, p)\n",
    "\n",
    "print(nn)\n",
    "print(site)\n",
    "\n",
    "ncluster = np.array([s_a_xy(s, L) for s in cluster])\n",
    "\n",
    "fig, ax = plt.subplots()\n",
    "ax.plot(ncluster[:, 0], ncluster[:, 1], 'bo')\n",
    "plt.show()\n"
   ]
  }
 ],
 "metadata": {
  "kernelspec": {
   "display_name": "base",
   "language": "python",
   "name": "python3"
  },
  "language_info": {
   "codemirror_mode": {
    "name": "ipython",
    "version": 3
   },
   "file_extension": ".py",
   "mimetype": "text/x-python",
   "name": "python",
   "nbconvert_exporter": "python",
   "pygments_lexer": "ipython3",
   "version": "3.11.5"
  }
 },
 "nbformat": 4,
 "nbformat_minor": 2
}
