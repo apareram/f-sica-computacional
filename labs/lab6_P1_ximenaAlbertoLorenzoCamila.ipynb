{
 "cells": [
  {
   "cell_type": "code",
   "execution_count": 1,
   "metadata": {},
   "outputs": [],
   "source": [
    "import numpy as np\n",
    "import matplotlib.pyplot as plt"
   ]
  },
  {
   "cell_type": "code",
   "execution_count": 2,
   "metadata": {},
   "outputs": [],
   "source": [
    "def xy_a_s(x, y, L):\n",
    "    return y * L + x\n",
    "\n",
    "def s_a_xy(s, L):\n",
    "    return s % L, s // L\n",
    "\n",
    "def vecino(s, j, L, empty):\n",
    "    if j == 0:  \n",
    "        if s % L == L - 1:\n",
    "            return empty\n",
    "        else:\n",
    "            return s + 1\n",
    "    elif j == 1:  \n",
    "        if s // L == L - 1:\n",
    "            return empty\n",
    "        else:\n",
    "            return s + L\n",
    "    elif j == 2:  \n",
    "        if s % L == 0:\n",
    "            return empty\n",
    "        else:\n",
    "            return s - 1\n",
    "    elif j == 3:  \n",
    "        if s // L == 0:\n",
    "            return empty\n",
    "        else:\n",
    "            return s - L\n",
    "\n",
    "def boundaries(L, N, empty):\n",
    "    nn = np.zeros((N, 4), dtype=int)\n",
    "    for s in range(N):\n",
    "        for j in range(4):\n",
    "            nn[s, j] = vecino(s, j, L, empty)\n",
    "    return nn"
   ]
  },
  {
   "cell_type": "code",
   "execution_count": 3,
   "metadata": {},
   "outputs": [],
   "source": [
    "def HLA(L, N, p, nn, empty):\n",
    "    site = np.zeros(N, dtype=np.short)\n",
    "    \n",
    "    xseed, yseed = L // 2, L // 2\n",
    "    sseed = xy_a_s(xseed, yseed, L)\n",
    "    site[sseed] = 1  \n",
    "    cluster = np.array([sseed])\n",
    "    \n",
    "    per = np.array([nn[sseed, j] for j in range(4) if nn[sseed, j] != empty], dtype=int)\n",
    "    site[per] = 2  \n",
    "    \n",
    "    while len(per) > 0:\n",
    "        index = np.random.randint(len(per))\n",
    "        snew = per[index]\n",
    "        per = np.delete(per, index)\n",
    "        escPer = np.random.random()\n",
    "        if escPer < p:\n",
    "            site[snew] = 1  \n",
    "            cluster = np.append(cluster, snew)\n",
    "            for j in range(4):\n",
    "                sper = nn[snew, j]\n",
    "                if sper != empty and site[sper] == 0:\n",
    "                    per = np.append(per, sper)\n",
    "                    site[sper] = 2  \n",
    "        else:\n",
    "            site[snew] = empty\n",
    "        \n",
    "    return site, cluster"
   ]
  },
  {
   "cell_type": "code",
   "execution_count": 4,
   "metadata": {},
   "outputs": [
    {
     "name": "stdout",
     "output_type": "stream",
     "text": [
      "[[  1  16  -1  -1]\n",
      " [  2  17   0  -1]\n",
      " [  3  18   1  -1]\n",
      " ...\n",
      " [254  -1 252 237]\n",
      " [255  -1 253 238]\n",
      " [ -1  -1 254 239]]\n",
      "[136 137 135 152 121 138 119 103 102 101 117 104 134 100  85 122 123 116\n",
      " 115  84 114 130  99 131 132  83  67  82  81 129 146  65  64 162 145 148\n",
      " 178 194 195 179 211 177  49 163 212 176 192 210 226 242 228 243 241 180\n",
      " 240 244 245 209 224 225 181 246 230 182 165 247 183 198 197 184 167 214\n",
      " 166 231 200 199 248 201 217 202 249 216 203 215 187 233 188 172 219]\n",
      "[ 0  0  0  0  0  0  0  0  0  0  0  0  0  0  0  0  0  0  0  0  0  0  0  0\n",
      "  0  0  0  0  0  0  0  0  0 -1  0  0  0  0  0  0  0  0  0  0  0  0  0  0\n",
      " -1  1 -1 -1  0  0  0  0  0  0  0  0  0  0  0  0  1  1 -1  1 -1 -1  0  0\n",
      "  0  0  0  0  0  0  0  0 -1  1  1  1  1  1 -1 -1 -1  0  0  0  0  0  0  0\n",
      "  0 -1 -1  1  1  1  1  1  1 -1 -1 -1  0  0  0  0  0 -1  1  1  1  1 -1  1\n",
      " -1  1  1  1 -1  0  0  0 -1  1  1  1  1 -1  1  1  1  1  1 -1  0  0  0  0\n",
      " -1  1  1 -1  1 -1 -1 -1  1 -1 -1  0 -1  0  0  0 -1 -1  1  1 -1  1  1  1\n",
      " -1  0  0 -1  1 -1  0  0  1  1  1  1  1  1  1  1  1 -1 -1  1  1 -1  0  0\n",
      "  1 -1  1  1 -1  1  1  1  1  1  1  1 -1  0  0  0 -1  1  1  1  1 -1  1  1\n",
      "  1  1 -1  1 -1  0  0  0  1  1  1 -1  1 -1  1  1 -1  1 -1 -1  0  0  0  0\n",
      "  1  1  1  1  1  1  1  1  1  1 -1  0  0  0  0  0]\n"
     ]
    },
    {
     "data": {
      "image/png": "[encoded data removed]",
      "text/plain": [
       "<Figure size 640x480 with 1 Axes>"
      ]
     },
     "metadata": {},
     "output_type": "display_data"
    }
   ],
   "source": [
    "L = 16\n",
    "p = 0.59275\n",
    "N = L * L\n",
    "empty = -1\n",
    "\n",
    "nn = boundaries(L, N, empty)\n",
    "\n",
    "site, cluster = HLA(L, N, p, nn, empty)\n",
    "\n",
    "print(nn)\n",
    "print(cluster)\n",
    "print(site)\n",
    "\n",
    "ncluster = np.array([s_a_xy(s, L) for s in cluster])\n",
    "\n",
    "fig, ax = plt.subplots()\n",
    "ax.plot(ncluster[:, 0], ncluster[:, 1], 'bo')\n",
    "plt.show()"
   ]
  }
 ],
 "metadata": {
  "kernelspec": {
   "display_name": "base",
   "language": "python",
   "name": "python3"
  },
  "language_info": {
   "codemirror_mode": {
    "name": "ipython",
    "version": 3
   },
   "file_extension": ".py",
   "mimetype": "text/x-python",
   "name": "python",
   "nbconvert_exporter": "python",
   "pygments_lexer": "ipython3",
   "version": "3.11.5"
  }
 },
 "nbformat": 4,
 "nbformat_minor": 2
}
