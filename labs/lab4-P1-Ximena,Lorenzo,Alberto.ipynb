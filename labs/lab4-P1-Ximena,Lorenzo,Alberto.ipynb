{
 "cells": [
  {
   "cell_type": "code",
   "execution_count": 38,
   "metadata": {},
   "outputs": [],
   "source": [
    "import random\n",
    "import numpy as np"
   ]
  },
  {
   "cell_type": "markdown",
   "metadata": {},
   "source": [
    "# a)"
   ]
  },
  {
   "cell_type": "code",
   "execution_count": 39,
   "metadata": {},
   "outputs": [],
   "source": [
    "# Generar dos números aleatorios entre 1 y 6\n",
    "dado1 = random.randint(1, 6)\n",
    "dado2 = random.randint(1, 6)"
   ]
  },
  {
   "cell_type": "code",
   "execution_count": 40,
   "metadata": {},
   "outputs": [
    {
     "name": "stdout",
     "output_type": "stream",
     "text": [
      "Primer dado: 2\n",
      "Segundo dado: 6\n"
     ]
    }
   ],
   "source": [
    "# Imprimir los números\n",
    "print(f\"Primer dado: {dado1}\")\n",
    "print(f\"Segundo dado: {dado2}\")"
   ]
  },
  {
   "cell_type": "markdown",
   "metadata": {},
   "source": [
    "# b)"
   ]
  },
  {
   "cell_type": "code",
   "execution_count": 57,
   "metadata": {},
   "outputs": [],
   "source": [
    "valor_teorico = 1/36"
   ]
  },
  {
   "cell_type": "code",
   "execution_count": 41,
   "metadata": {},
   "outputs": [],
   "source": [
    "# número de lanzamientos\n",
    "n = 1000000"
   ]
  },
  {
   "cell_type": "code",
   "execution_count": 42,
   "metadata": {},
   "outputs": [],
   "source": [
    "# Contador para el número de veces que obtenemos doble seis\n",
    "contador_doble_seis = 0\n",
    "contador_doble_seis_np = 0"
   ]
  },
  {
   "cell_type": "code",
   "execution_count": 43,
   "metadata": {},
   "outputs": [],
   "source": [
    "# Simular N lanzamientos\n",
    "for _ in range(n):\n",
    "    dado1 = random.randint(1, 6)\n",
    "    dado2 = random.randint(1, 6)\n",
    "    # Checar si la suma es igual a 12, lo que indica doble seis\n",
    "    if dado1 + dado2 == 12:\n",
    "        contador_doble_seis += 1"
   ]
  },
  {
   "cell_type": "code",
   "execution_count": 44,
   "metadata": {},
   "outputs": [],
   "source": [
    "dados1 = np.random.randint(1, 7, n)\n",
    "dados2 = np.random.randint(1, 7, n)\n",
    "sumas = dados1 + dados2\n",
    "contador_doble_seis_np = np.sum(sumas == 12)"
   ]
  },
  {
   "cell_type": "code",
   "execution_count": 45,
   "metadata": {},
   "outputs": [],
   "source": [
    "# Calcular la fracción de veces que se obtiene doble seis\n",
    "fraccion_doble_seis = contador_doble_seis / n\n",
    "fraccion_doble_seis_np = contador_doble_seis_np / n"
   ]
  },
  {
   "cell_type": "code",
   "execution_count": 59,
   "metadata": {},
   "outputs": [],
   "source": [
    "error_porcentual = abs(fraccion_doble_seis - valor_teorico) / valor_teorico * 100\n",
    "error_porcentual_np = abs(fraccion_doble_seis_np - valor_teorico) / valor_teorico * 100"
   ]
  },
  {
   "cell_type": "code",
   "execution_count": 60,
   "metadata": {},
   "outputs": [
    {
     "name": "stdout",
     "output_type": "stream",
     "text": [
      "Fracción de veces que se obtiene doble seis sin numpy: 0.027645\n",
      "Fracción de veces que se obtiene doble seis con numpy: 0.027856\n",
      "Error porcentual sin numpy: 0.4779999999999965%\n",
      "Error porcentual con numpy: 0.2816000000000013%\n"
     ]
    }
   ],
   "source": [
    "print(f\"Fracción de veces que se obtiene doble seis sin numpy: {fraccion_doble_seis}\")\n",
    "print(f\"Fracción de veces que se obtiene doble seis con numpy: {fraccion_doble_seis_np}\")\n",
    "print(f\"Error porcentual sin numpy: {error_porcentual}%\")\n",
    "print(f\"Error porcentual con numpy: {error_porcentual_np}%\")\n"
   ]
  },
  {
   "cell_type": "markdown",
   "metadata": {},
   "source": [
    "La razón por la que se espera un valor cercano a $1/36$ (0.02777777777) es porque hay 36 combinaciones posibles al lanzar dos dados (cada dado tiene 6 caras, y el total de combinaciones es $6^2 = 36$), y solo una de esas combinaciones resulta en doble seis (6 en el primer dado y 6 en el segundo dado), lo que da una probabilidad teórica de $1/36$ de obtener doble seis en un lanzamiento. La diferencia principal al utilizar numpy radica en la eficiencia y rapidez del cálculo, siendo numpy significativamente más rápido y eficiente para manejar grandes cantidades de datos, como es el caso de simular un millón de lanzamientos de dados."
   ]
  },
  {
   "cell_type": "markdown",
   "metadata": {},
   "source": [
    "# c)"
   ]
  },
  {
   "cell_type": "code",
   "execution_count": 80,
   "metadata": {},
   "outputs": [],
   "source": [
    "n_1 = 10000"
   ]
  },
  {
   "cell_type": "code",
   "execution_count": 81,
   "metadata": {},
   "outputs": [],
   "source": [
    "doble_sies = 0"
   ]
  },
  {
   "cell_type": "code",
   "execution_count": 82,
   "metadata": {},
   "outputs": [],
   "source": [
    "dados1 = np.random.randint(1, 7, n_1)\n",
    "dados2 = np.random.randint(1, 7, n_1)\n",
    "sumas = dados1 + dados2\n",
    "doble_sies = np.sum(sumas == 12)"
   ]
  },
  {
   "cell_type": "code",
   "execution_count": 83,
   "metadata": {},
   "outputs": [],
   "source": [
    "fraccion_doble_seis = doble_sies / n_1"
   ]
  },
  {
   "cell_type": "code",
   "execution_count": 84,
   "metadata": {},
   "outputs": [],
   "source": [
    "error_porcentual = abs(fraccion_doble_seis - valor_teorico) / valor_teorico * 100"
   ]
  },
  {
   "cell_type": "code",
   "execution_count": 85,
   "metadata": {},
   "outputs": [
    {
     "name": "stdout",
     "output_type": "stream",
     "text": [
      "Fracción de veces que se obtiene doble seis (n = 10000): 0.0302\n",
      "Error porcentual (n = 10000): 8.72000000000001%\n"
     ]
    }
   ],
   "source": [
    "print(f\"Fracción de veces que se obtiene doble seis (n = 10000): {fraccion_doble_seis}\")\n",
    "print(f\"Error porcentual (n = 10000): {error_porcentual}%\")"
   ]
  },
  {
   "cell_type": "markdown",
   "metadata": {},
   "source": [
    "El error porcentual más pequeño observado con $N = 10000$ lanzamientos en comparación con un número mayor podría ser resultado de la variabilidad estadística y efectos del azar. En muestras más pequeñas, es posible obtener resultados que casualmente se desvíen menos del valor esperado. Sin embargo, este resultado puede ser circunstancial y no necesariamente refleja una tendencia general. A medida que aumenta el número de lanzamientos, la precisión de los resultados tiende a alinearse más estrechamente con las expectativas teóricas debido a la Ley de los Grandes Números."
   ]
  }
 ],
 "metadata": {
  "kernelspec": {
   "display_name": "base",
   "language": "python",
   "name": "python3"
  },
  "language_info": {
   "codemirror_mode": {
    "name": "ipython",
    "version": 3
   },
   "file_extension": ".py",
   "mimetype": "text/x-python",
   "name": "python",
   "nbconvert_exporter": "python",
   "pygments_lexer": "ipython3",
   "version": "3.11.5"
  }
 },
 "nbformat": 4,
 "nbformat_minor": 2
}
