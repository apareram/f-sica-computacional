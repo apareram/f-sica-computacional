{
 "cells": [
  {
   "cell_type": "markdown",
   "metadata": {},
   "source": [
    "Existen procesos en la naturaleza que son naturalmente aleatorios mientras que hay otros que, a pesar de ser deterministas, son aparentemente aleatorios. \n",
    "\n",
    "Para simularlos en el computador necesitamos los números aleatorios."
   ]
  },
  {
   "cell_type": "markdown",
   "metadata": {},
   "source": [
    "# Números aleatorios"
   ]
  },
  {
   "cell_type": "markdown",
   "metadata": {},
   "source": [
    "Generación de números pseudo-aleatorios"
   ]
  },
  {
   "cell_type": "markdown",
   "metadata": {},
   "source": [
    "Generador de números aleatorios congruencial lineal\n",
    "$$ x^\\prime = (ax+c)\\mod m $$"
   ]
  },
  {
   "cell_type": "code",
   "execution_count": null,
   "metadata": {},
   "outputs": [],
   "source": [
    "N = 100\n",
    "\n",
    "a = 4567\n",
    "c = 27\n",
    "\n",
    "m = 100\n",
    "\n",
    "x = 4\n",
    "results = []\n",
    "\n",
    "for i in range(N):\n",
    "    x = (a*x+c)%m\n",
    "    results.append(x)\n",
    "    \n",
    "print(results)"
   ]
  },
  {
   "cell_type": "code",
   "execution_count": null,
   "metadata": {
    "scrolled": true
   },
   "outputs": [],
   "source": [
    "x = 12\n",
    "results = []\n",
    "\n",
    "for i in range(N):\n",
    "    x = (a*x+c)%m\n",
    "    results.append(x)\n",
    "    \n",
    "print(results)"
   ]
  },
  {
   "cell_type": "code",
   "execution_count": null,
   "metadata": {},
   "outputs": [],
   "source": [
    "import matplotlib.pyplot as plt "
   ]
  },
  {
   "cell_type": "code",
   "execution_count": null,
   "metadata": {},
   "outputs": [],
   "source": [
    "import matplotlib.pyplot as plt\n",
    "plt.rcParams['font.size'] = '16'\n",
    "plt.rcParams['font.family'] = 'serif'\n",
    "plt.rcParams['font.serif'] = ['Tahoma']\n",
    "plt.rc('text',usetex = True)\n",
    "#plt.rc('mathtext',fontset = 'stix')"
   ]
  },
  {
   "cell_type": "code",
   "execution_count": null,
   "metadata": {},
   "outputs": [],
   "source": [
    "N = 100\n",
    "a = 1664525\n",
    "c = 1013904223\n",
    "m = 4294967296 #2**32\n",
    "x = 134091   #semilla\n",
    "results = []\n",
    "\n",
    "for i in range(N):\n",
    "    x = (a*x+c)%m\n",
    "    results.append(x)\n",
    "    \n",
    "plt.plot(results,\"o\")\n",
    "#print(results)\n",
    "plt.ylabel(r'$x$',fontsize = 18)\n",
    "plt.xlabel(r'$i$',fontsize = 18)\n",
    "plt.show()\n",
    "#print(results)\n"
   ]
  },
  {
   "cell_type": "markdown",
   "metadata": {},
   "source": [
    "#### Comentarios:\n",
    "\n",
    "1) No son realmente aleatorios\n",
    "\n",
    "2) Intervalo $[0,m-1]$\n",
    "\n",
    "3) Período\n",
    "\n",
    "4) Calidad depende de la escogencia de $a$, $c$, $m$\n",
    "\n",
    "5) ¿Qué es la semilla?\n",
    "\n",
    "6) **Fallas:** correlación entre valores, períodos pequeños, falta de uniformidad, paridad, etc"
   ]
  },
  {
   "cell_type": "markdown",
   "metadata": {},
   "source": [
    "### Paquete random (Merssene twister)"
   ]
  },
  {
   "cell_type": "code",
   "execution_count": null,
   "metadata": {},
   "outputs": [],
   "source": [
    "from random import random, randrange, seed"
   ]
  },
  {
   "cell_type": "markdown",
   "metadata": {},
   "source": [
    "random( ): genera un numero aleatorio uniformemente distribuido en el intervalo [0,1)"
   ]
  },
  {
   "cell_type": "code",
   "execution_count": null,
   "metadata": {},
   "outputs": [],
   "source": [
    "random()"
   ]
  },
  {
   "cell_type": "markdown",
   "metadata": {},
   "source": [
    "randrange(n): entero de 0 a n-1"
   ]
  },
  {
   "cell_type": "code",
   "execution_count": null,
   "metadata": {},
   "outputs": [],
   "source": [
    "print(randrange(10))\n",
    "print(randrange(10))\n",
    "print(randrange(10))"
   ]
  },
  {
   "cell_type": "markdown",
   "metadata": {},
   "source": [
    "randrange(m,n,k): entero de m a n-1 cada k (se puede omitir k, default 1)"
   ]
  },
  {
   "cell_type": "code",
   "execution_count": null,
   "metadata": {},
   "outputs": [],
   "source": [
    "for i in range(100):\n",
    "    print(randrange(2,20,3),end = ' ')"
   ]
  },
  {
   "cell_type": "markdown",
   "metadata": {},
   "source": [
    "Si quieres mantener la secuencia de números hay que guardarla (en principio)"
   ]
  },
  {
   "cell_type": "markdown",
   "metadata": {},
   "source": [
    "La semilla $seed$ le dice al generador donde empezar la secuencia y determina la misma. Para el congruencial y muchos otros generadores es el primer número de la secuencia"
   ]
  },
  {
   "cell_type": "code",
   "execution_count": null,
   "metadata": {},
   "outputs": [],
   "source": [
    "seed(235091)\n",
    "for i in range(4):\n",
    "    print(randrange(10))"
   ]
  },
  {
   "cell_type": "markdown",
   "metadata": {},
   "source": [
    "### Utilizando numpy"
   ]
  },
  {
   "cell_type": "code",
   "execution_count": null,
   "metadata": {},
   "outputs": [],
   "source": [
    "import numpy.random as nr\n",
    "import numpy as np\n",
    "import time"
   ]
  },
  {
   "cell_type": "code",
   "execution_count": null,
   "metadata": {},
   "outputs": [],
   "source": [
    "print(nr.random())"
   ]
  },
  {
   "cell_type": "code",
   "execution_count": null,
   "metadata": {},
   "outputs": [],
   "source": [
    "print(nr.randint(100))"
   ]
  },
  {
   "cell_type": "code",
   "execution_count": null,
   "metadata": {},
   "outputs": [],
   "source": [
    "print(nr.randint(4,size = (2,2)))"
   ]
  },
  {
   "cell_type": "code",
   "execution_count": null,
   "metadata": {},
   "outputs": [],
   "source": [
    "print(nr.rand(3, 5))"
   ]
  },
  {
   "cell_type": "code",
   "execution_count": null,
   "metadata": {},
   "outputs": [],
   "source": [
    "print(nr.choice([2,3,5,9],size = (3,5)))"
   ]
  },
  {
   "cell_type": "code",
   "execution_count": null,
   "metadata": {},
   "outputs": [],
   "source": [
    "print(nr.choice(['Juan','Abraham','Jorge'],size=(1,10)))"
   ]
  },
  {
   "cell_type": "code",
   "execution_count": null,
   "metadata": {},
   "outputs": [],
   "source": [
    "nr.seed(125)\n",
    "print(nr.random())"
   ]
  },
  {
   "cell_type": "markdown",
   "metadata": {},
   "source": [
    "https://numpy.org/doc/1.16/reference/routines.random.html"
   ]
  },
  {
   "cell_type": "markdown",
   "metadata": {},
   "source": [
    "### El problema del lanzamiento de una moneda sesgada. \n",
    "\n",
    "Queremos generar un evento con probabilidad p"
   ]
  },
  {
   "cell_type": "code",
   "execution_count": null,
   "metadata": {},
   "outputs": [],
   "source": [
    "#supongamos p = 0.2\n",
    "x = random()\n",
    "print(x)\n",
    "if x  < 0.2:\n",
    "    print(\"Se realiza el evento\")\n",
    "else:\n",
    "    print(\"No se realiza el evento\")\n",
    "   "
   ]
  },
  {
   "cell_type": "markdown",
   "metadata": {},
   "source": [
    "Ejemplo 10.1 (Mark Newman) Decaimiento de un isótopo\n",
    "\n",
    "El radioisótopo $^{208}$Tl (thallium 208) decae al estable $^{208}$Pb (plomo 208) \n",
    "con una vida media de 3.053 min. Suponga que empezamos con una muestra de 1000 átomos\n",
    "de thallium. Simulemos el decaimiento de estos átomos, mimetizando la aleatoriedad de este\n",
    "decaimiento utilizando múmeros aleatorios.\n"
   ]
  },
  {
   "cell_type": "markdown",
   "metadata": {},
   "source": [
    "De teoría se conoce que el número promedio de átomos que no ha decaído en un tiempo $t$ es :\n",
    "    $$ N(t) = N(0)\\, 2^{-t/\\tau},$$\n",
    "donde $\\tau$ es el tiempo de vida media."
   ]
  },
  {
   "cell_type": "markdown",
   "metadata": {},
   "source": [
    "Fracción de átomos que permanece en  un tiempo t:  $2^{-t/\\tau}$\n",
    "    \n",
    "Fracción de átomos que ha decaído en  un tiempo t:  $1-2^{-t/\\tau} = p(t)$, \n",
    "probabilidad de decaimiento."
   ]
  },
  {
   "cell_type": "code",
   "execution_count": null,
   "metadata": {},
   "outputs": [],
   "source": [
    "import numpy as np\n",
    "import numpy.random as nr\n",
    "import time"
   ]
  },
  {
   "cell_type": "code",
   "execution_count": null,
   "metadata": {},
   "outputs": [],
   "source": [
    "NTl = 100000 #Numero de atomos de Tl\n",
    "NPb = 0 #Numero de atomos de Pb\n",
    "h = 1  # intervalo de tiempo\n",
    "tau = 3.053*60  #tiempo de vida media\n",
    "p = 1 - 2**(-h/tau) #probabilidad de decaimiento\n",
    "\n",
    "NTalios = [NTl]\n",
    "NPlomos = [NPb]\n",
    "\n",
    "tmax = 1000 \n",
    "startTime = time.process_time()\n",
    "for _ in range(1,tmax,h):\n",
    "    \n",
    "    decays = 0 #Cuenta el número de ´átomos que decayeron en el tiempo t\n",
    "    for i in range(NTl):\n",
    "        r = nr.random()\n",
    "        if r < p: #Moneda sesgada           \n",
    "            decays += 1\n",
    "#    actual = nr.random(NTl) #Utilizando nimpu\n",
    "#    decay = actual[actual<p].size\n",
    "\n",
    "    NTl -= decays\n",
    "    NPb += decays\n",
    "    NTalios.append(NTl)\n",
    "    NPlomos.append(NPb)\n",
    "\n",
    "endTime = time.process_time()\n",
    "print('tiempo = ',round(endTime-startTime,2),' s')\n",
    "tpoints = np.arange(0,tmax,h)"
   ]
  },
  {
   "cell_type": "code",
   "execution_count": null,
   "metadata": {},
   "outputs": [],
   "source": [
    "print(len(NTalios),tpoints.size)"
   ]
  },
  {
   "cell_type": "code",
   "execution_count": null,
   "metadata": {},
   "outputs": [],
   "source": [
    "import matplotlib.pyplot as plt\n",
    "plt.rcParams['font.size'] = '16'\n",
    "plt.rcParams['font.family'] = 'serif'\n",
    "plt.rcParams['font.serif'] = ['Tahoma']\n",
    "plt.rc('text',usetex = True)"
   ]
  },
  {
   "cell_type": "code",
   "execution_count": null,
   "metadata": {},
   "outputs": [],
   "source": [
    "# Make the graph\n",
    "plt.plot(tpoints,NTalios,color = \"blue\",label = \"Tl\")\n",
    "plt.plot(tpoints,NPlomos,color = \"red\",label = \"Pb\")\n",
    "plt.xlabel(\"Time\",fontsize = 24)\n",
    "plt.ylabel(\"Number of atoms\",fontsize = 24)\n",
    "plt.legend(loc = 'center right')\n",
    "#plt.show()"
   ]
  },
  {
   "cell_type": "code",
   "execution_count": null,
   "metadata": {},
   "outputs": [],
   "source": [
    "plt.semilogy(tpoints,NTalios,color = \"blue\",label = \"Tl\")\n",
    "plt.xlabel(\"Time\",fontsize = 24)\n",
    "plt.ylabel(\"Number of atoms\",fontsize = 24)\n",
    "plt.legend(loc = 'center right')\n",
    "plt.show()"
   ]
  },
  {
   "cell_type": "markdown",
   "metadata": {},
   "source": [
    "¿Cómo a partir de esta cuerva estimamos el tiempo de vida media?"
   ]
  },
  {
   "cell_type": "markdown",
   "metadata": {},
   "source": [
    "## Mínimos Cuadrados"
   ]
  },
  {
   "cell_type": "markdown",
   "metadata": {},
   "source": [
    "Minimizo:\n",
    "$$ S = \\sum_{i=0}^{n-1} [ y_i - f(x_i, a, b, c, \\cdots )]^2$$"
   ]
  },
  {
   "cell_type": "markdown",
   "metadata": {},
   "source": [
    "Ajuste lineal:\n",
    "\n",
    "$$ f(x;a,b,c,\\cdots) = y = b\\,x + a$$"
   ]
  },
  {
   "cell_type": "markdown",
   "metadata": {},
   "source": [
    "Solución:\n",
    "$$\\displaystyle b = \\frac{\\sum_i (x_i -\\bar{x})y_i}{\\sum_i (x_i -\\bar{x})x_i}, \\qquad a = \\bar{y} - b\\bar{x} $$\n",
    "\n",
    "donde\n",
    "$$ \\bar{x} = \\frac{1}{n}\\sum_i x_i, \\;\n",
    "\\bar{y} = \\frac{1}{n}\\sum_i y_i$$"
   ]
  },
  {
   "cell_type": "code",
   "execution_count": null,
   "metadata": {},
   "outputs": [],
   "source": [
    "def lineFit(x, y):\n",
    "    ''' Returns slope and y-intercept of linear fit to (x,y)\n",
    "    data set'''\n",
    "    xavg = x.mean()\n",
    "    slope = (y * (x - xavg)).sum() / (x * (x - xavg)).sum()\n",
    "    yint = y.mean() - slope * xavg\n",
    "    return slope, yint"
   ]
  },
  {
   "cell_type": "code",
   "execution_count": null,
   "metadata": {},
   "outputs": [],
   "source": [
    "t,v,s = np.loadtxt(\"VelocityVsTimeData.txt\",skiprows = 3,usecols = (0,1,2),unpack = True)"
   ]
  },
  {
   "cell_type": "code",
   "execution_count": null,
   "metadata": {},
   "outputs": [],
   "source": [
    "a, v0 = lineFit(t,v)\n",
    "print(v0,a)\n",
    "print(abs((a-(-9.8))/(-9.8))*100)"
   ]
  },
  {
   "cell_type": "code",
   "execution_count": null,
   "metadata": {
    "scrolled": true
   },
   "outputs": [],
   "source": [
    "# create plot\n",
    "plt.figure(1, figsize=(6, 4))\n",
    "plt.errorbar(t, v, fmt='oC1', label=\"data\",\n",
    "             yerr=s, ecolor='black')\n",
    "plt.plot(t,v0+a*t,'blue', label = 'linear fit')\n",
    "#plt.plot(t,v0ince+ainc*t,'red', label = 'linear fit 2')\n",
    "plt.xlabel(r'$t$')\n",
    "plt.ylabel(r'$v$')\n",
    "plt.legend(loc='upper right')\n",
    "\n",
    "# display plot on screen\n",
    "plt.show()\n"
   ]
  },
  {
   "cell_type": "markdown",
   "metadata": {},
   "source": [
    "### Mínimos cuadrados lineal con incertidumbre en la data"
   ]
  },
  {
   "cell_type": "markdown",
   "metadata": {},
   "source": [
    "Tomando en cuenta la incertidumbre de la data, minimizamos\n",
    "$$ \\displaystyle \\chi^2 = \\sum_{i=0}^{n-1} \\left [\\frac{ y_i - f(x_i, a, b, c, \\cdots )}{\\sigma_i}\\right]^2$$\n",
    "Solución para el caso lineal:\n",
    "$$\\displaystyle b = \\frac{\\sum_i (x_i -\\hat{x})y_i/\\sigma_i^2}{\\sum_i (x_i -\\hat{x})x_i/\\sigma_i^2}, \\qquad a = \\hat{y} - b\\hat{x} $$\n",
    "\n",
    "donde\n",
    "$$ \\hat{x} = \\frac{\\sum_i x_i/\\sigma_i^2}{\\sum_i 1/\\sigma_i^2} \n",
    ", \\;\n",
    "\\hat{y} = \\frac{\\sum_i y_i/\\sigma_i^2}{\\sum_i 1/\\sigma_i^2}$$\n"
   ]
  },
  {
   "cell_type": "markdown",
   "metadata": {},
   "source": [
    "#### Parámetro chi-cuadrado reducido"
   ]
  },
  {
   "cell_type": "markdown",
   "metadata": {},
   "source": [
    "\\begin{equation}\n",
    "\\chi_r^2 = \\frac{\\chi^2}{n-2}\n",
    "\\end{equation}\n",
    "\n",
    "$\\chi_r^2 \\approx 1$: fit óptimo\n",
    "\n",
    "$\\chi_r^2 \\gg 1$: fit pobre\n",
    "\n",
    "$\\chi_r^2 \\ll 1$: incertidumbre sobre estimada"
   ]
  },
  {
   "cell_type": "markdown",
   "metadata": {},
   "source": [
    "#### Errores de los fits"
   ]
  },
  {
   "cell_type": "markdown",
   "metadata": {},
   "source": [
    "\\begin{equation}\n",
    "\\sigma_b^2 = \\left [\\sum_i (x_i - \\hat{x})x_i/\\sigma_i^2 \\right ]^{-1}\n",
    "\\end{equation}"
   ]
  },
  {
   "cell_type": "markdown",
   "metadata": {},
   "source": [
    "\\begin{equation}\n",
    "\\sigma_a^2 = \\sigma_b^2  \\displaystyle \\frac{\\sum_i x_i^2/\\sigma_i^2}{\\sum_i 1/\\sigma_i^2}  \n",
    "\\end{equation}"
   ]
  },
  {
   "cell_type": "code",
   "execution_count": null,
   "metadata": {},
   "outputs": [],
   "source": [
    "from IPython.display import Image\n",
    "Image(filename = \"AjusteExponencial.png\",width = 800)"
   ]
  },
  {
   "cell_type": "markdown",
   "metadata": {},
   "source": [
    "## Auste no lineal (Pine)"
   ]
  },
  {
   "cell_type": "code",
   "execution_count": null,
   "metadata": {},
   "outputs": [],
   "source": [
    "import numpy as np\n",
    "import matplotlib.pyplot as plt\n",
    "plt.rcParams['font.size'] = '16'\n",
    "plt.rcParams['font.family'] = 'serif'\n",
    "plt.rcParams['font.serif'] = ['Tahoma']\n",
    "plt.rc('text',usetex = True)"
   ]
  },
  {
   "cell_type": "code",
   "execution_count": null,
   "metadata": {},
   "outputs": [],
   "source": [
    "f, s, ds = np.loadtxt(\"Spectrum.txt\", skiprows=4,\n",
    "                      unpack=True)\n",
    "plt.errorbar(f, s, yerr=ds, fmt='oC3', ecolor='black')\n",
    "plt.ylabel('absorción',fontsize = 18)\n",
    "plt.xlabel(r'$\\nu$',fontsize = 18)"
   ]
  },
  {
   "cell_type": "markdown",
   "metadata": {},
   "source": [
    "### Argumentos de la función curve_fit de la librería scipy.optimize"
   ]
  },
  {
   "cell_type": "code",
   "execution_count": null,
   "metadata": {},
   "outputs": [],
   "source": [
    "from IPython.display import Image\n",
    "Image(filename = \"curvefitarguments.png\",width = 600,height = 600)"
   ]
  },
  {
   "cell_type": "markdown",
   "metadata": {},
   "source": [
    "\\begin{equation}\n",
    "Abs(\\nu) = a + b\\,\\nu + c\\,\\nu^2+P\\,\\mbox{e}^{\\displaystyle -0.5((\\nu-\\nu_p)/\\nu_w)^2}\n",
    "\\end{equation}"
   ]
  },
  {
   "cell_type": "code",
   "execution_count": null,
   "metadata": {},
   "outputs": [],
   "source": [
    "from IPython.display import Image\n",
    "Image(filename = \"nolineal.png\",width = 600)"
   ]
  },
  {
   "cell_type": "code",
   "execution_count": null,
   "metadata": {},
   "outputs": [],
   "source": [
    "import numpy as np\n",
    "import matplotlib.pyplot as plt\n",
    "import matplotlib.gridspec as gridspec  # unequal plots\n",
    "import scipy.optimize\n",
    "\n",
    "\n",
    "# define fitting function\n",
    "def GaussPolyBase(f, a, b, c, P, fp, fw):\n",
    "    return a + b * f + c * f * f + P * np.exp(-0.5 * ((f - fp) / fw) ** 2)\n",
    "\n",
    "\n",
    "# read in spectrum from data file\n",
    "# f=frequency, s=signal, ds=s uncertainty\n",
    "f, s, ds = np.loadtxt(\"Spectrum.txt\", skiprows=4,\n",
    "                      unpack=True)\n",
    "\n",
    "# initial guesses for fitting parameters\n",
    "a0, b0, c0 = 60., -3., 0.\n",
    "P0, fp0, fw0 = 80., 11., 2.\n",
    "\n",
    "# fit data using SciPy's Levenberg Marquart method\n",
    "nlfit, nlpcov = scipy.optimize.curve_fit(GaussPolyBase,\n",
    "                                         f, s, p0=[a0, b0, c0, P0, fp0, fw0],\n",
    "                                         sigma=ds)\n",
    "\n",
    "# unpack fitting parameters\n",
    "a, b, c, P, fp, fw = nlfit\n",
    "# unpack uncertainties in fitting parameters from\n",
    "# diagonal of covariance matrix\n",
    "da, db, dc, dP, dfp, dfw = [np.sqrt(nlpcov[j, j])\n",
    "                            for j in range(nlfit.size)]\n",
    "\n",
    "# create fitting function from fitted parameters\n",
    "f_fit = np.linspace(0.0, 25., 128)\n",
    "s_fit = GaussPolyBase(f_fit, a, b, c, P, fp, fw)\n",
    "\n",
    "# Calculate residuals and reduced chi squared\n",
    "resids = s - GaussPolyBase(f, a, b, c, P, fp, fw)\n",
    "redchisqr = ((resids / ds) ** 2).sum() / float(f.size - 6)\n",
    "\n",
    "# Create figure window to plot data\n",
    "fig = plt.figure(1, figsize=(9.5, 6.5))\n",
    "gs = gridspec.GridSpec(2, 1, height_ratios=[6, 2])\n",
    "\n",
    "# Top plot: data and fit\n",
    "ax1 = fig.add_subplot(gs[0])\n",
    "ax1.plot(f_fit, s_fit, '-C0')\n",
    "ax1.errorbar(f, s, yerr=ds, fmt='oC3', ecolor='black')\n",
    "#ax1.set_xlabel('frequency (THz)',fontsize = 18)\n",
    "ax1.set_ylabel('absorption (arb units)',fontsize = 18)\n",
    "ax1.text(0.7, 0.95, r'$a = {0:0.1f}\\pm${1:0.1f}'\n",
    "         .format(a, da), transform=ax1.transAxes)\n",
    "ax1.text(0.7, 0.88, r'$b = {0:0.2f}\\pm${1:0.2f}'\n",
    "         .format(b, db), transform=ax1.transAxes)\n",
    "ax1.text(0.7, 0.81, r'$c = {0:0.2f}\\pm${1:0.2f}'\n",
    "         .format(c, dc), transform=ax1.transAxes)\n",
    "ax1.text(0.7, 0.74, r'$P = {0:0.1f}\\pm${1:0.1f}'\n",
    "         .format(P, dP), transform=ax1.transAxes)\n",
    "ax1.text(0.7, 0.67, r'$f_p = {0:0.1f}\\pm${1:0.1f}'\n",
    "         .format(fp, dfp), transform=ax1.transAxes)\n",
    "ax1.text(0.7, 0.60, r'$f_w = {0:0.1f}\\pm${1:0.1f}'\n",
    "         .format(fw, dfw), transform=ax1.transAxes)\n",
    "ax1.text(0.7, 0.53, r'$\\chi_r^2$ = {0:0.2f}'\n",
    "         .format(redchisqr), transform=ax1.transAxes)\n",
    "ax1.set_title(r'$s(f)=a+bf+cf^2+P\\,e^{-(f-f_p)^2/2f_w^2}$')\n",
    "\n",
    "# Bottom plot: residuals\n",
    "ax2 = fig.add_subplot(gs[1])\n",
    "ax2.errorbar(f, resids, yerr=ds, ecolor=\"black\",\n",
    "             fmt=\"oC3\")\n",
    "ax2.axhline(color=\"gray\", zorder=-1)\n",
    "ax2.set_xlabel('frequency (THz)',fontsize = 18)\n",
    "ax2.set_ylabel('residuals',fontsize = 18)\n",
    "ax2.set_ylim(-20, 20)\n",
    "ax2.set_yticks((-20, 0, 20))\n",
    "\n",
    "fig.savefig(\"FitSpectrum.pdf\")\n",
    "plt.show()\n",
    "\n"
   ]
  },
  {
   "cell_type": "markdown",
   "metadata": {},
   "source": [
    "## Integración de Monte Carlo"
   ]
  },
  {
   "cell_type": "code",
   "execution_count": null,
   "metadata": {},
   "outputs": [],
   "source": [
    "import numpy as np\n",
    "import time"
   ]
  },
  {
   "cell_type": "markdown",
   "metadata": {},
   "source": [
    "\\begin{equation}\n",
    "I = \\int_0^{3.5} \\, \\mbox{e}^{-x^2}\\,dx = \\frac{\\sqrt{\\pi}}{2} \\mbox{erf}(3.5) \\approx 0.8862262668989721\n",
    "\\end{equation}"
   ]
  },
  {
   "cell_type": "code",
   "execution_count": null,
   "metadata": {},
   "outputs": [],
   "source": [
    "funcion1 = lambda x: np.exp(-x**2)  \n",
    "a = 0\n",
    "b = 3.5"
   ]
  },
  {
   "cell_type": "code",
   "execution_count": null,
   "metadata": {},
   "outputs": [],
   "source": [
    "Iexacto = 0.8862262668989721"
   ]
  },
  {
   "cell_type": "code",
   "execution_count": null,
   "metadata": {},
   "outputs": [],
   "source": [
    "x = np.linspace(0,4,100) \n",
    "plt.plot(x,funcion1(x),color = 'black')\n",
    "plt.fill_between(x,funcion1(x),alpha=0.5)\n",
    "plt.xlabel(r'$x$',fontsize = 18)\n",
    "plt.ylabel(r'$f(x)$',fontsize = 18)\n",
    "plt.ylim(0,1.1)\n",
    "plt.xlim(0,4)\n",
    "plt.axvline(3.5,color = 'gray', dashes = (3,1))\n",
    "plt.axhline(1,color = 'gray', dashes = (3,1))"
   ]
  },
  {
   "cell_type": "markdown",
   "metadata": {},
   "source": [
    "### 1) Asertar y Fallar"
   ]
  },
  {
   "cell_type": "markdown",
   "metadata": {},
   "source": [
    "Queremos resolver\n",
    "\n",
    "\\begin{equation}\n",
    "I = \\int_a^b f(x)\\, dx \n",
    "\\end{equation}"
   ]
  },
  {
   "cell_type": "markdown",
   "metadata": {},
   "source": [
    "1. Generamos $N$ puntos $(x,y)$ al azar dentro del rectángulo de área $A$ limitado por el máximo de la función y por los límites de integración.\n",
    "2. Contamos el número de puntos $k$ que caen en el área bajo la curva $y < f(x)$\n",
    "3. Si $p$ es la probabilidad de caer bajo la curva tenemos:\n",
    "\\begin{equation}\n",
    "p = \\frac{I}{A} \\approx \\frac{k}{N}, \\quad \\Rightarrow \\quad I \\approx \\frac{k A}{N}\n",
    "\\end{equation}"
   ]
  },
  {
   "cell_type": "code",
   "execution_count": null,
   "metadata": {},
   "outputs": [],
   "source": [
    "def AsertarFallar(f,a,b,c,N,*args):\n",
    "    count = 0\n",
    "    for i in range(N):\n",
    "        x = (b-a)*np.random.random()+a\n",
    "        y = c*np.random.random()\n",
    "        if y<f(x,*args):\n",
    "            count += 1\n",
    "    I = (b-a)*c*count/N\n",
    "    return I    "
   ]
  },
  {
   "cell_type": "code",
   "execution_count": null,
   "metadata": {},
   "outputs": [],
   "source": [
    "startTime = time.process_time()\n",
    "c = 1\n",
    "N = 10000000\n",
    "I = AsertarFallar(funcion1,a,b,c,N)\n",
    "eabs = np.abs(I-Iexacto)\n",
    "endTime = time.process_time()\n",
    "print('I = ',I,'eabs = ',eabs,'erel = ',eabs/np.abs(Iexacto))\n",
    "print('tiempo de computo = ',round(endTime-startTime,2),' s')"
   ]
  },
  {
   "cell_type": "markdown",
   "metadata": {},
   "source": [
    "### Asertar y Fallar (numpy)"
   ]
  },
  {
   "cell_type": "code",
   "execution_count": null,
   "metadata": {},
   "outputs": [],
   "source": [
    "def npAsertarFallar(f,a,b,c,N,*params):\n",
    "    x = (b-a)*np.random.random(N)+a\n",
    "    y = c*np.random.random(N)\n",
    "    parcial = y < f(x)\n",
    "    \n",
    "    I = (b-a)*c*(parcial[parcial==True].size)/N\n",
    "    return I"
   ]
  },
  {
   "cell_type": "code",
   "execution_count": null,
   "metadata": {},
   "outputs": [],
   "source": [
    "startTime = time.process_time()\n",
    "c = 1\n",
    "N = 10000000\n",
    "I = npAsertarFallar(funcion1,a,b,c,N)\n",
    "eabs = np.abs(I-Iexacto)\n",
    "endTime = time.process_time()\n",
    "print('I = ',I,'eabs = ',eabs,'erel = ',eabs/np.abs(Iexacto))\n",
    "print('tiempo de computo = ',round(endTime-startTime,2),' s')"
   ]
  },
  {
   "cell_type": "code",
   "execution_count": null,
   "metadata": {},
   "outputs": [],
   "source": [
    "def np2AsertarFallar(f,a,b,c,N,*params):\n",
    "    x = (b-a)*np.random.random(N)+a\n",
    "    y = c*np.random.random(N)\n",
    "    y = y[y < f(x)]\n",
    "    \n",
    "    I = (b-a)*c*(y.size)/N\n",
    "    return I"
   ]
  },
  {
   "cell_type": "code",
   "execution_count": null,
   "metadata": {},
   "outputs": [],
   "source": [
    "startTime = time.process_time()\n",
    "c = 1\n",
    "N = 10000000\n",
    "I = np2AsertarFallar(funcion1,a,b,c,N)\n",
    "eabs = np.abs(I-Iexacto)\n",
    "endTime = time.process_time()\n",
    "print('I = ',I,'eabs = ',eabs,'erel = ',eabs/np.abs(Iexacto))\n",
    "print('tiempo de computo = ',round(endTime-startTime,3),' s')"
   ]
  },
  {
   "cell_type": "markdown",
   "metadata": {},
   "source": [
    "#### En general los métodos de integración de Montecarlo no son buenos"
   ]
  },
  {
   "cell_type": "markdown",
   "metadata": {},
   "source": [
    "Problema Binomial\n",
    "\n",
    "$p = I/A$: probabilidad de acertar\n",
    "\n",
    "$1-p$ : probabilidad de fallar\n",
    "\n",
    "Probabilidad de acertar despues de $N$ lanzamientos:\n",
    "\\begin{equation}\n",
    "P(k) = \\left ( N \\atop k \\right ) p^k (1-p)^{N-k}\n",
    "\\end{equation}\n",
    "\n",
    "media: $\\langle k \\rangle = N p$\n",
    "\n",
    "varianza = $\\sigma_k^2 = \\langle k^2 \\rangle - \\langle k \\rangle^2 = Np(1-p)$\n",
    "\n",
    "Por lo tanto el error \n",
    "\n",
    "\\begin{equation}\n",
    "\\sigma_I = \\sigma_k \\frac{A}{N} = \\frac{A}{N} \\sqrt{N \\frac{I}{A} \\left ( 1- \\frac{I}{A}\\right)} = \\frac{\\sqrt{I(A-I}}{N^{1/2}}\n",
    "\\end{equation}"
   ]
  },
  {
   "cell_type": "markdown",
   "metadata": {},
   "source": [
    "#### Error de los métodos convencionales\n",
    "\n",
    "Trapecio: $N^{-2}$\n",
    "\n",
    "Simpson: $N^{-4}$"
   ]
  },
  {
   "cell_type": "markdown",
   "metadata": {},
   "source": [
    "## 2) El método del valor medio"
   ]
  },
  {
   "cell_type": "markdown",
   "metadata": {},
   "source": [
    "\\begin{equation}\n",
    "\\langle f \\rangle = \\frac{1}{b-a}\\int_a^b f(x)\\, dx = \\frac{I}{b-a}, \\quad \\Rightarrow \\quad I = (b-a)\\, \\langle f \\rangle\n",
    "\\end{equation}"
   ]
  },
  {
   "cell_type": "markdown",
   "metadata": {},
   "source": [
    "1) Generamos $N$ coordenadas $x$ al azar\n",
    "\n",
    "2) Evaluamos la función $f(x)$ en esas coordenadas y promediamos\n",
    "\n",
    "\\begin{equation}\n",
    "\\langle f \\rangle \\approx \\frac{1}{N}\\sum_{i=1}^{N} f(x_i)\n",
    "\\end{equation}\n",
    "\n",
    "3) El valor aproximado de la integral será\n",
    "\n",
    "\\begin{equation}\n",
    "I \\approx \\frac{b-a}{N}\\sum_{i=1}^{N} f(x_i)\n",
    "\\end{equation}\n",
    "\n",
    "#### Se puede demostrar que el error es también del orden $N^{-1/2}$\n",
    "\n",
    "\\begin{equation}\n",
    "\\sigma_I = \\frac{b-a}{N}\\sigma_{\\mbox{suma}} = \\frac{b-a}{N} \\sqrt{N \\mbox{Var}(f)} = \\frac{(b-a)\\sigma_f}{N^{1/2}}\n",
    "\\end{equation}"
   ]
  },
  {
   "cell_type": "markdown",
   "metadata": {},
   "source": [
    "## 3) Integrales en múltiples dimensiones\n",
    "\n",
    "Funciona, en general, mejor que los métodos convencionales donde se necesitan $N^d$ subdivisiones"
   ]
  },
  {
   "cell_type": "markdown",
   "metadata": {},
   "source": [
    "Se quiere resolver:\n",
    "    \n",
    "\\begin{equation}\n",
    "I = \\int_{V} f(\\vec{r})\\, d\\vec{r}\n",
    "\\end{equation}\n",
    "\n",
    "La fórmula del valor medio queda como\n",
    "\n",
    "\\begin{equation}\n",
    "I \\approx \\frac{V}{N} \\sum_{i=1}^N f(\\vec{r}_i)\n",
    "\\end{equation}\n",
    "\n",
    "$\\vec{r}_i$: generados al azar en el hipervolumen de integración $V$ (dominio)"
   ]
  },
  {
   "cell_type": "markdown",
   "metadata": {},
   "source": [
    "Ejemplo: Volumen de una hiperesfera en 10 dimensiones. En dos dimensiones sería:"
   ]
  },
  {
   "cell_type": "code",
   "execution_count": null,
   "metadata": {},
   "outputs": [],
   "source": [
    "from IPython.display import Image\n",
    "Image(filename = \"Volumen.png\",width = 400)"
   ]
  },
  {
   "cell_type": "markdown",
   "metadata": {},
   "source": [
    "\\begin{equation}\n",
    "I = \\int_{-1}^1\\int_{-1}^1 f(x,y)\\,dxdy\n",
    "\\end{equation}\n",
    "\n",
    "donde\n",
    "\n",
    "\\begin{equation}\n",
    "f(x,y) = \\left \\{ 1 \\quad \\mbox{si} \\quad x^2+y^2 \\le 1  \\atop 0 \\quad \\mbox{si} \\quad x^2+y^2 > 1 \\right .\n",
    "\\end{equation}\n",
    "\n",
    "El volumen aproximado será:\n",
    "\n",
    "\\begin{equation}\n",
    "I \\approx \\frac{4}{N} \\sum_{i=1}^N f(x_i,y_i)\n",
    "\\end{equation}"
   ]
  },
  {
   "cell_type": "markdown",
   "metadata": {},
   "source": [
    "Solución exacta:\n",
    "\n",
    "Volumen de una esfera en $d$ dimensiones\n",
    "$$v_d = \\frac{\\pi^{d/2}R^d}{\\Gamma(d/2+1)}$$"
   ]
  },
  {
   "cell_type": "code",
   "execution_count": null,
   "metadata": {},
   "outputs": [],
   "source": [
    "import numpy as np\n",
    "import time"
   ]
  },
  {
   "cell_type": "code",
   "execution_count": null,
   "metadata": {},
   "outputs": [],
   "source": [
    "startTime = time.process_time()\n",
    "d = 10\n",
    "N = 10000000\n",
    "\n",
    "r = np.random.uniform(-1,1,(N,d)) #Genera N vectores de simension d\n",
    "\n",
    "r2 = (r*r).sum(axis =1)\n",
    "print(r2.shape)\n",
    "#r2 = np.linalg.norm(r,axis = 1)\n",
    "                       \n",
    "I = 2**d*r2[r2<1].size/N\n",
    "\n",
    "from scipy.special import gamma\n",
    "\n",
    "Iexacto = np.pi**(d/2)/gamma(d/2+1)\n",
    "\n",
    "erel = abs((I-Iexacto)/Iexacto)\n",
    "print('I = ',I,'Iexacto =',Iexacto,'erel = ',erel)\n",
    "\n",
    "endTime = time.process_time()\n",
    "print('Duración= {} s.'.format(endTime-startTime))"
   ]
  },
  {
   "cell_type": "markdown",
   "metadata": {},
   "source": [
    "Utilizando un método convencional si quisieramos un subdivisión de 100 por eje, necesitaríamos $100^{10} = 10^{20}$ puntos en total (imposible para computadoras actuales). Nos bastan $10^6$ puntos en Montecarlo para un buen resultado."
   ]
  },
  {
   "cell_type": "markdown",
   "metadata": {},
   "source": [
    "## 4) Muestreo de importancia"
   ]
  },
  {
   "cell_type": "code",
   "execution_count": null,
   "metadata": {},
   "outputs": [],
   "source": [
    "import numpy as np\n",
    "import time"
   ]
  },
  {
   "cell_type": "code",
   "execution_count": null,
   "metadata": {},
   "outputs": [],
   "source": [
    "import matplotlib.pyplot as plt\n",
    "plt.rcParams['font.size'] = '16'\n",
    "plt.rcParams['font.family'] = 'serif'\n",
    "plt.rcParams['font.serif'] = ['Tahoma']\n",
    "plt.rc('text',usetex = True)"
   ]
  },
  {
   "cell_type": "markdown",
   "metadata": {},
   "source": [
    "Queremos resolver la siguiente integral\n",
    "\n",
    "\\begin{equation}\n",
    "I = \\int_0^1 \\frac{x^{-1/2}}{e^x+1}\\,dx \\quad \\mbox{gases de Fermi}\n",
    "\\end{equation}\n",
    "\n",
    "La contribución a la integral de los valores de $x$ cercanos a 0 es grande en comparación con los del resto del intervalo.\n",
    "\n",
    "La idea es utilizar un método de Montecarlo donde en lugar de generar los números al azar de manera uniforma, se generan con una distribución donde salgan más números en la cercanía del origen.\n",
    "\n",
    "¿Cómo se hace?"
   ]
  },
  {
   "cell_type": "code",
   "execution_count": null,
   "metadata": {},
   "outputs": [],
   "source": [
    "funcion2 = lambda x: x**(-0.5)/(np.exp(x)+1)  \n",
    "a = 0\n",
    "b = 1\n",
    "funcion3 = lambda x: x**(-1)/(np.exp(x)+1)  "
   ]
  },
  {
   "cell_type": "code",
   "execution_count": null,
   "metadata": {},
   "outputs": [],
   "source": [
    "x = np.linspace(0.01,1.5,150)"
   ]
  },
  {
   "cell_type": "code",
   "execution_count": null,
   "metadata": {},
   "outputs": [],
   "source": [
    "plt.plot(x,funcion2(x),label = r'$f(x) = \\displaystyle \\frac{1}{x^{1/2}(e^x+1)}$')\n",
    "plt.plot(x,funcion3(x),'r',label = r'$f(x) = \\displaystyle \\frac{1}{x(e^x+1)}$')\n",
    "plt.xlabel(r'$x$',fontsize = 18)\n",
    "plt.ylabel(r'$f(x)$',fontsize = 18)\n",
    "plt.axvline(1,color = 'gray',dashes = (3,1))\n",
    "plt.axvline(0,color = 'gray',dashes = (3,1))\n",
    "plt.legend(loc = 'best',fontsize = 12)\n",
    "maximo = funcion2(x).max()\n",
    "plt.ylim(0,maximo)"
   ]
  },
  {
   "cell_type": "markdown",
   "metadata": {},
   "source": [
    "Promedio ponderado de una función $g$ por un peso $w$\n",
    "\n",
    "\\begin{equation}\n",
    "\\langle g \\rangle_w = \\frac{\\int_a^b w(x) g(x)\\,dx}{\\int_a^b w(x)\\,dx}\n",
    "\\end{equation}\n",
    "\n",
    "Queremos resolver:\n",
    "\n",
    "\\begin{equation}\n",
    "I = \\int_a^b f(x)\\,dx\n",
    "\\end{equation}\n",
    "\n",
    "Si $g(x) = f(x)/w(x)$ tenemos:\n",
    "\n",
    "\\begin{equation}\n",
    "\\left \\langle \\frac{f}{w} \\right \\rangle_w = \\frac{\\int_a^b f(x)\\,dx}{\\int_a^b w(x)\\,dx}\n",
    "\\end{equation}\n",
    "\n",
    "Por lo tanto:\n",
    "\n",
    "\\begin{equation}\n",
    "\\boxed{I = \\left \\langle \\frac{f}{w} \\right \\rangle_w \\int_a^b w(x)\\,dx}\n",
    "\\end{equation}\n",
    "\n",
    "Para hacer esto:\n",
    "\n",
    "\\begin{equation}\n",
    "\\left \\langle \\frac{f}{w} \\right \\rangle_w \\approx \\frac{1}{N}\\sum_{i=1}^N \\frac{f(x_i)}{w(x_i)},\n",
    "\\end{equation}\n",
    "\n",
    "donde los $x_i$ son números al azar generados a partir de  la distribución:\n",
    "\n",
    "\\begin{equation}\n",
    "p(x) = \\frac{w(x)}{\\int_a^b w(x)\\,dx}\n",
    "\\end{equation}"
   ]
  },
  {
   "cell_type": "markdown",
   "metadata": {},
   "source": [
    "### Generación de números aleatorios no uniformes\n"
   ]
  },
  {
   "cell_type": "markdown",
   "metadata": {},
   "source": [
    "Distribución uniforme en el intervalo $[a,b)$. La probabilidad de que un punto tomado al azar caiga entre $x$ y $x+dx$ es:\n",
    "\n",
    "\\begin{equation}\n",
    "p(x)\\,dx = \\frac{1}{b-a}\\,dx\n",
    "\\end{equation}"
   ]
  },
  {
   "cell_type": "markdown",
   "metadata": {},
   "source": [
    "#### Método de la transformación\n",
    "\n",
    "1) Se tiene una fuente de números flotantes aleatorio $z$ distribuidos por la densidad de probabilidad $q(z)$. $q(z)\\,dz$ es la probabilida de generar un número al alzar entre $z$ y $z+dz$.\n",
    "\n",
    "2) Se tiene una función $x(z)$. Como $z$ es un número aleatorio $x(z)$ también lo será pero con un distribución $p(x)$\n",
    "\n",
    "3) Propósito del método de la transformación: Conseguir la función $x(z)$ que nos de la distribución que queremos.\n",
    "\n",
    "4) Se cumple: $p(x)\\,dx = q(z) \\, dz$\n",
    "\n",
    "5) En general se utiliza $q(z)$ como una distribución uniforme en el intervalo $[0,1)$. Integrando la expresión del punto 4) tenemos:\n",
    "\n",
    "\\begin{equation}\n",
    "\\int_{x_0}^{x(z)} p(x^\\prime)\\,dx^\\prime = \\int_0^z\\, dz^\\prime = z\n",
    "\\end{equation}\n",
    "\n",
    "6) La idea es hacer la integral de la izquierda y  despejar $x(z)$. No siempre se puede."
   ]
  },
  {
   "cell_type": "markdown",
   "metadata": {},
   "source": [
    "#### Ejemplo decaimiento del Talium\n",
    "\n",
    "La probabilidad de decaimiento en un tiempo $dt$ es \n",
    "\\begin{equation}\n",
    "p = 1 - 2^{-\\displaystyle\\frac{dt}{\\tau}} = 1- \\exp\\left (-\\frac{dt}{\\tau} \\ln 2 \\right ) = \\frac{\\ln 2}{\\tau}\\,dt\n",
    "\\end{equation}\n",
    "\n",
    "donde despreciamos términos del orden $dt^2$.\n",
    "\n",
    "Probabilidad de que un átomo decaiga en el intervalo entre $t$ y $t+dt$ es:\n",
    "\n",
    "\\begin{equation}\n",
    "P(t)dt = 2^{-\\displaystyle\\frac{t}{\\tau}}\\frac{\\ln 2}{\\tau}\\,dt= \\frac{\\ln 2}{\\tau} \\mbox{e}^{\\displaystyle -t\\ln 2/\\tau}\\,dt\n",
    "\\end{equation}\n",
    "\n",
    "**Distribución exponencial**\n",
    "\n",
    "\\begin{equation}\n",
    "p(x)\\,dx = \\mu \\mbox{e}^{-\\mu x}\\,dx\n",
    "\\end{equation}"
   ]
  },
  {
   "cell_type": "code",
   "execution_count": null,
   "metadata": {},
   "outputs": [],
   "source": [
    "Image(filename = \"decayexpo.png\",width = 600)"
   ]
  },
  {
   "cell_type": "markdown",
   "metadata": {},
   "source": [
    "#### Método de la transformación\n",
    "\n",
    "\\begin{equation}\n",
    "\\mu \\int_0^{x(z)} \\mbox{e}^{-\\mu x^\\prime}\\,dx^\\prime= 1 - \\mbox{e}^{-\\mu x} = z\n",
    "\\end{equation}\n",
    "\n",
    "Por lo tanto\n",
    "\n",
    "\\begin{equation}\n",
    "x = -\\frac{1}{\\mu}\\ln (1 - z)\n",
    "\\end{equation}\n",
    "\n",
    "$z$ generados de manera uniforme nos da $x$ distribuidos exponencialmente. Para nuestro caso $\\mu = \\ln 2/\\tau$"
   ]
  },
  {
   "cell_type": "code",
   "execution_count": null,
   "metadata": {},
   "outputs": [],
   "source": [
    "Image(filename = \"Tdecays.png\",width = 400)"
   ]
  },
  {
   "cell_type": "code",
   "execution_count": null,
   "metadata": {},
   "outputs": [],
   "source": [
    "def expoDistribution(mu,N):\n",
    "    x = -np.log(1-np.random.random(N))/mu\n",
    "    return x   "
   ]
  },
  {
   "cell_type": "code",
   "execution_count": null,
   "metadata": {},
   "outputs": [],
   "source": [
    "tmax = 1000 # Total time\n",
    "h = 1.       # Paso de tiempo\n",
    "tau = 3.053*60   # tiempo de vida media\n",
    "\n",
    "# Lists of plot points\n",
    "tpoints = np.arange(0.0,tmax,h)\n",
    "\n",
    "#Generación de los 1000 números al azar, representa los tiempos de deciamiento \n",
    "N = 100000 #Numero inical de atomos de Tallium\n",
    "\n",
    "startTime = time.process_time()\n",
    "Tdecays = expoDistribution(np.log(2)/tau,N)\n",
    "\n",
    "#Generación de la función que nos da el número de Tl que no han decaido\n",
    "NTall = []\n",
    "t0 = 0.\n",
    "for i in range(1000):\n",
    "    NTall.append(Tdecays[Tdecays>t0].size)\n",
    "    t0 += h\n",
    "\n",
    "endTime = time.process_time()\n",
    "print('Duración= {} s.'.format(endTime-startTime))\n"
   ]
  },
  {
   "cell_type": "code",
   "execution_count": null,
   "metadata": {},
   "outputs": [],
   "source": [
    "plt.semilogy(NTall)\n",
    "#plt.plot(NTall)\n",
    "plt.xlabel(r'$t$',fontsize = 18)\n",
    "plt.ylabel('NTallilum',fontsize = 18)\n",
    "tpoints=np.array(tpoints)\n",
    "NTall = np.array(NTall)\n",
    "print(tpoints.size,NTall.size)"
   ]
  },
  {
   "cell_type": "markdown",
   "metadata": {},
   "source": [
    "# Caminante aleatorio"
   ]
  },
  {
   "cell_type": "markdown",
   "metadata": {},
   "source": [
    "## Caminante aleatorio en una dimensión"
   ]
  },
  {
   "cell_type": "code",
   "execution_count": null,
   "metadata": {},
   "outputs": [],
   "source": [
    "from IPython.display import Image\n",
    "Image(filename = \"Caminante_d=1.png\",width = 800)"
   ]
  },
  {
   "cell_type": "markdown",
   "metadata": {},
   "source": [
    "* A lo largo de una línea\n",
    "* El caminante empieza en $x=0$\n",
    "* Cada paso de igual longitud $a=1$\n",
    "* $p$: probabilidad de que el paso sea hacia la derecha ($x>0$)\n",
    "* $q = 1-p$: probabilidad de que el paso sea hacia la izquierda ($x<0$)\n",
    "* No hay memoria. Cada paso es independiente del anterior.\n",
    "\n",
    "¿Dónde se encontrará el caminante después de $N$ pasos?"
   ]
  },
  {
   "cell_type": "code",
   "execution_count": null,
   "metadata": {},
   "outputs": [],
   "source": [
    "import numpy as np\n",
    "import numpy.random as nr\n",
    "import time\n",
    "from  random import random,seed,randrange"
   ]
  },
  {
   "cell_type": "code",
   "execution_count": null,
   "metadata": {},
   "outputs": [],
   "source": [
    "def lineFit(x, y):\n",
    "    ''' Returns slope and y-intercept of linear fit to (x,y)\n",
    "    data set'''\n",
    "    xavg = x.mean()\n",
    "    slope = (y * (x - xavg)).sum() / (x * (x - xavg)).sum()\n",
    "    yint = y.mean() - slope * xavg\n",
    "    return slope, yint"
   ]
  },
  {
   "cell_type": "code",
   "execution_count": null,
   "metadata": {},
   "outputs": [],
   "source": [
    "import matplotlib.pyplot as plt\n",
    "plt.rcParams['font.size'] = '14'\n",
    "plt.rcParams['font.family'] = 'serif'\n",
    "plt.rcParams['font.serif'] = ['Tahoma']\n",
    "plt.rc('text',usetex = True)"
   ]
  },
  {
   "cell_type": "code",
   "execution_count": null,
   "metadata": {},
   "outputs": [],
   "source": [
    "startTime = time.process_time()\n",
    "N=1000000 #Numero de pasos\n",
    "p = 0.5 #probabilidad de dar un paso hacia la derecha \n",
    "\n",
    "X = np.zeros(N+1) # Incluyo el cero\n",
    "X2 = np.zeros(N+1)\n",
    "\n",
    "x = 0.         # Start at origin. Desplazamiento respecto a la posición inicial\n",
    "X[0] = x\n",
    "X2[0] = x*x\n",
    "\n",
    "for i in range(1, N+1):\n",
    "    #Paso a la derecha con probabilidad p\n",
    "    if nr.random() < p:\n",
    "#   if random() < p: \n",
    "        x += 1.    \n",
    "    else:\n",
    "        x -= 1.\n",
    "    X[i] = x\n",
    "    X2[i] = x*x\n",
    "endTime = time.process_time()\n",
    "print('tiempo de corrida: ',round(startTime-endTime,2),' s')"
   ]
  },
  {
   "cell_type": "code",
   "execution_count": null,
   "metadata": {},
   "outputs": [],
   "source": [
    "plt.figure(figsize = (5,5))\n",
    "plt.plot(X,'b-')\n",
    "plt.xlabel('pasos',fontsize = 18)\n",
    "plt.ylabel(r'$x$',fontsize = 18)"
   ]
  },
  {
   "cell_type": "markdown",
   "metadata": {},
   "source": [
    "### Alternativa para el caso $p=0.5$"
   ]
  },
  {
   "cell_type": "code",
   "execution_count": null,
   "metadata": {},
   "outputs": [],
   "source": [
    "N=100000\n",
    "\n",
    "X = np.zeros(N+1)\n",
    "X2 = np.zeros(N+1)\n",
    "\n",
    "x = 0.         # Start at origin\n",
    "X[0] = x\n",
    "X2[0] = x*x\n",
    "\n",
    "for i in range(1, N+1):\n",
    "#    x += randrange(-1,2,2)   #Solamente válido para p = 0.5\n",
    "    x += nr.choice([-1,1])\n",
    "    \n",
    "    X[i] = x\n",
    "    X2[i] = x*x"
   ]
  },
  {
   "cell_type": "code",
   "execution_count": null,
   "metadata": {},
   "outputs": [],
   "source": [
    "plt.figure(figsize = (5,5))\n",
    "plt.plot(X,'b-')\n",
    "plt.xlabel('pasos',fontsize = 18)\n",
    "plt.ylabel(r'$x$',fontsize = 18)"
   ]
  },
  {
   "cell_type": "markdown",
   "metadata": {},
   "source": [
    "### Utilizando numpy"
   ]
  },
  {
   "cell_type": "code",
   "execution_count": null,
   "metadata": {},
   "outputs": [],
   "source": [
    "startTime = time.process_time()\n",
    "N = 1000000\n",
    "p= 0.5 #Este sirve para cualquier p\n",
    "\n",
    "x=nr.rand(N) #Desplazamientos \n",
    "x[x<p] = 1 #Desplazamientos a la derecha\n",
    "x[x != 1] = -1 #Desplazamientos a la derecha\n",
    "\n",
    "X=np.cumsum(x) #Posición para i pasos\n",
    "\n",
    "X = np.append(0.,X) \n",
    "X2=X**2\n",
    "\n",
    "endTime = time.process_time()\n",
    "print('tiempo de corrida: ',round(startTime-endTime,2),' s')"
   ]
  },
  {
   "cell_type": "code",
   "execution_count": null,
   "metadata": {},
   "outputs": [],
   "source": [
    "plt.figure(figsize = (5,5))\n",
    "plt.plot(X,'b-')\n",
    "plt.xlabel('pasos',fontsize = 18)\n",
    "plt.ylabel(r'$x$',fontsize = 18)"
   ]
  },
  {
   "cell_type": "markdown",
   "metadata": {},
   "source": [
    "### Análisis"
   ]
  },
  {
   "cell_type": "markdown",
   "metadata": {},
   "source": [
    "Posición promedio para $N$ pasos:\n",
    "\n",
    "\\begin{equation}\n",
    "\\langle X \\rangle = N (p-q) a\n",
    "\\end{equation}\n",
    "\n",
    "Desplazamiento cuadrático medio\n",
    "\n",
    "\\begin{equation}\n",
    "\\Delta X^2 = \\langle X^2 \\rangle - \\langle X \\rangle^2 = 4 p q N \\sigma^2\n",
    "\\end{equation}\n",
    "\n",
    "donde $\\sigma^2$ es el desplazamiento cuadrático medio se un solo paso\n",
    "\n",
    "Probabilidad de que después de $N$ pasos el caminante se encuentre en la posición $x$\n",
    "\\begin{equation}\n",
    "P(N,x)  = \\left ( N \\atop \\frac{N+x}{2} \\right) \\frac{1}{2^N}\n",
    "\\end{equation}\n",
    "\n",
    "Para $N$ grandes\n",
    "\n",
    "\\begin{equation}\n",
    "P(N,x)  = \\frac{1}{\\sqrt{2\\pi N}} \\mbox{e}^{-x^2/2N}\n",
    "\\end{equation}"
   ]
  },
  {
   "cell_type": "markdown",
   "metadata": {},
   "source": [
    "### Para comprobar esta hay que hacer muchas muestras (muchos caminates)"
   ]
  },
  {
   "cell_type": "code",
   "execution_count": null,
   "metadata": {},
   "outputs": [],
   "source": [
    "Image(filename='Camnumpyd1.png',width=400)"
   ]
  },
  {
   "cell_type": "code",
   "execution_count": null,
   "metadata": {},
   "outputs": [],
   "source": [
    "def CamAlead1(N,M,p):\n",
    "    # N: Número total de pasos\n",
    "    # M: Número de caminantes\n",
    "    # p: probabilidad de paso a la derecha\n",
    "    dx =np.random.rand(M,N)\n",
    "\n",
    "    dx[dx<p] = 1\n",
    "    dx[dx != 1] = -1\n",
    "\n",
    "    X=np.cumsum(dx,axis=1)\n",
    "    X2=X**2\n",
    "\n",
    "    XparaN = X[:,N-1]\n",
    "\n",
    "    X = X.mean(axis=0)\n",
    "    X2 = X2.mean(axis=0)\n",
    "\n",
    "    X = np.append(0.,X)\n",
    "    X2 = np.append(0.,X2)\n",
    "    DX2 = X2 - X*X \n",
    "    return X,DX2,XparaN"
   ]
  },
  {
   "cell_type": "code",
   "execution_count": null,
   "metadata": {},
   "outputs": [],
   "source": [
    "startTime = time.process_time()\n",
    "N = 10000 #numero de pasos del caminante\n",
    "trials = 100000  #numero de realizaciones\n",
    "p = 0.5 #probabilidad de paso a la derecha\n",
    "\n",
    "X,DX2,XparaN = CamAlead1(N,trials,p)\n",
    "\n",
    "endTime = time.process_time()\n",
    "print('Duración= {} s.'.format(endTime-startTime))"
   ]
  },
  {
   "cell_type": "code",
   "execution_count": null,
   "metadata": {},
   "outputs": [],
   "source": [
    "plt.figure(figsize = (5,5))\n",
    "plt.plot(DX2,label = r'$\\Delta X^2$')\n",
    "plt.plot(X,label = r'$\\langle X \\rangle$')\n",
    "plt.xlabel(r'$N$',fontsize = 18)\n",
    "\n",
    "t = np.arange(0,N+1)\n",
    "\n",
    "slope, corte = lineFit(t,DX2)\n",
    "plt.plot(t,slope*t+corte,color = 'red',label = r'$\\Delta X^2 = A\\, N$')\n",
    "print('slope = ',slope)\n",
    "print('corte = ',corte)\n",
    "plt.legend(loc = 'upper left',fontsize = 12)\n",
    "\n",
    "\n",
    "plt.figure(figsize = (9,5))\n",
    "n, bins, patches = plt.hist(XparaN, bins = 50,density = True) # density = True, funcion de distribucion\n",
    "\n",
    "x = np.arange(-400,400,0.1)\n",
    "Prob = np.exp(-x**2/(2*N))/np.sqrt(2*np.pi*N)\n",
    "plt.text(100,0.75*n.max(),r'$ P(x) = \\displaystyle\\frac{1}{\\sqrt{2\\pi N}}\\,\\mbox{e}^{\\displaystyle -x^2/2N}$',fontsize = 16)\n",
    "plt.plot(x,Prob,color = 'black')\n",
    "plt.xlabel(r'$x$',fontsize = 18)\n",
    "plt.ylabel(r'$P(x)$',fontsize = 18)\n",
    "plt.show()"
   ]
  },
  {
   "cell_type": "markdown",
   "metadata": {},
   "source": [
    "## Caminante aleatorio en dos dimensiones"
   ]
  },
  {
   "cell_type": "code",
   "execution_count": null,
   "metadata": {},
   "outputs": [],
   "source": [
    "from IPython.display import Image, display\n",
    "Image(filename='Caminante.png',width=600, height=400)"
   ]
  },
  {
   "cell_type": "markdown",
   "metadata": {},
   "source": [
    "\\begin{equation*}\n",
    "R^2 = (\\Delta x_1 + \\cdots + \\Delta x_N )^2 + (\\Delta y_1 + \\cdots + \\Delta y_N )^2 \n",
    "\\end{equation*}\n",
    "\n",
    "Promediando para muchos caminantes\n",
    "\n",
    "\\begin{eqnarray*}\n",
    "\\langle R^2 \\rangle  &=& \\langle \\Delta x_1^2 + \\Delta y_1 ^2 + \\cdots + \\Delta x_N^2 + \\Delta y_N^2 \\rangle \\\\\n",
    "&=& \\langle \\Delta x_1^2 + \\Delta y_1 ^2 \\rangle + \\cdots + \\langle \\Delta x_N^2 + \\Delta y_N^2 \\rangle \\\\\n",
    "&=& N \\langle r^2 \\rangle\n",
    "\\end{eqnarray*}\n",
    "\n",
    "esto no es otra cosa que:\n",
    "\n",
    "\\begin{equation*}\n",
    "R_\\mbox{rms}^2 = N r_\\mbox{rms}^2\n",
    "\\end{equation*}"
   ]
  },
  {
   "cell_type": "code",
   "execution_count": null,
   "metadata": {},
   "outputs": [],
   "source": [
    "Image(filename='Caminante_d=2.png',width=400, height=400)"
   ]
  },
  {
   "cell_type": "code",
   "execution_count": null,
   "metadata": {
    "scrolled": true
   },
   "outputs": [],
   "source": [
    "from IPython.display import Image, display\n",
    "Image(filename='DescripcionProgd2.png',width=800, height=1200)"
   ]
  },
  {
   "cell_type": "code",
   "execution_count": null,
   "metadata": {},
   "outputs": [],
   "source": [
    "# dir determina la direccion del movimiento 0,1,2,3\n",
    "# dx, dy: desplazamientos en x y y\n",
    "# X,Y: posiciones en x y y\n",
    "# Xmean, Ymean: posiciones medias\n",
    "# R2 desplazamiento cuadrático\n",
    "import time\n",
    "\n",
    "startTime = time.process_time()\n",
    "trials,N = 100000, 1024 #trials es lo mismo que numero de caminantes\n",
    "dir = np.random.randint(4, size=(trials, N))\n",
    "dx = np.zeros((trials, N),dtype = \"int\")\n",
    "dy = np.zeros((trials, N),dtype = \"int\")\n",
    "dx[dir==0],dx[dir==1],dx[dir==2],dx[dir==3]=1,0,-1,0\n",
    "dy[dir==0],dy[dir==1],dy[dir==2],dy[dir==3]=0,1,0,-1\n",
    "del dir\n",
    "\n",
    "X,Y  = np.cumsum(dx,axis=1),np.cumsum(dy,axis=1)\n",
    "del dx,dy\n",
    "Xmean, Ymean = np.mean(X,axis = 0),np.mean(Y,axis = 0)\n",
    "\n",
    "R2 = ((X*X).mean(axis=0)-Xmean**2) + ((Y*Y).mean(axis=0)-Ymean**2)\n",
    "\n",
    "endTime = time.process_time()\n",
    "print('Duración= {} s.'.format(endTime-startTime))"
   ]
  },
  {
   "cell_type": "code",
   "execution_count": null,
   "metadata": {},
   "outputs": [],
   "source": [
    "plt.figure(figsize = (5,5))\n",
    "Ngraf = np.arange(1,N+1)\n",
    "plt.plot(Ngraf,R2)\n",
    "slope, corte = lineFit(Ngraf,R2)\n",
    "plt.ylabel(r'$R_{rms}^2$',fontsize = 18)\n",
    "plt.xlabel(r'$N$',fontsize = 18)\n",
    "plt.rc('text', usetex=True)\n",
    "plt.text(700,200,r'$R_{rms}^2 = r_{rms}^2 N$',fontsize = 14)\n",
    "plt.text(700,100,r'$r_{rms}^2 = $'+'{:.2f}'.format(slope))\n",
    "ajuste = slope*Ngraf + corte\n",
    "plt.plot(Ngraf,ajuste,'r-',dashes = (2,1))\n",
    "print(slope,corte)"
   ]
  },
  {
   "cell_type": "code",
   "execution_count": null,
   "metadata": {},
   "outputs": [],
   "source": [
    "plt.figure(figsize = (5,5))\n",
    "plt.plot(Ngraf,Xmean,label =r'$\\langle X \\rangle$')\n",
    "plt.plot(Ngraf,Ymean,'r',label =r'$\\langle Y \\rangle$')\n",
    "plt.ylabel(r'$\\langle X,Y \\rangle$',fontsize = 18)\n",
    "plt.xlabel(r'$N$',fontsize = 18)\n",
    "plt.legend(loc = 'best',fontsize = 12)"
   ]
  },
  {
   "cell_type": "code",
   "execution_count": null,
   "metadata": {},
   "outputs": [],
   "source": [
    "def CamAleaSquare(N,trials):\n",
    "    # N: Número total de pasos\n",
    "    # M: Número de caminantes\n",
    "    dir = np.random.randint(4, size=(trials, N))\n",
    "    dx = np.zeros((trials, N),dtype = \"int\")\n",
    "    dy = np.zeros((trials, N),dtype = \"int\")\n",
    "    dx[dir==0],dx[dir==1],dx[dir==2],dx[dir==3]=1,0,-1,0\n",
    "    dy[dir==0],dy[dir==1],dy[dir==2],dy[dir==3]=0,1,0,-1\n",
    "    del dir\n",
    "\n",
    "    X,Y  = np.cumsum(dx,axis=1),np.cumsum(dy,axis=1)\n",
    "    del dx,dy\n",
    "    Xmean, Ymean = np.mean(X,axis = 0),np.mean(Y,axis = 0)\n",
    "\n",
    "    R2 = ((X*X).mean(axis=0)-Xmean**2) + ((Y*Y).mean(axis=0)-Ymean**2)\n",
    "    \n",
    "    XparaN = X[:,N-1]\n",
    "    YparaN = Y[:,N-1]\n",
    "    \n",
    "    return Xmean,Ymean,R2,XparaN,YparaN"
   ]
  },
  {
   "cell_type": "code",
   "execution_count": null,
   "metadata": {},
   "outputs": [],
   "source": [
    "startTime = time.process_time()\n",
    "trials,N = 100000, 1024 #trials es lo mismo que numero de caminantes\n",
    "Xmean,Ymean,R2,XparaN,YparaN = CamAleaSquare(N,trials)\n",
    "endTime = time.process_time()\n",
    "print('Duración= {} s.'.format(endTime-startTime))"
   ]
  },
  {
   "cell_type": "code",
   "execution_count": null,
   "metadata": {},
   "outputs": [],
   "source": [
    "Ngraf = np.arange(1,N+1)\n",
    "fig = plt.figure(figsize = (14,14))\n",
    "ax1 = fig.add_subplot(2,2,1)\n",
    "ax1.plot(Ngraf,Xmean,'b',label = r'$\\langle X \\rangle$')\n",
    "ax1.plot(Ngraf,Ymean,'r',label = r'$\\langle Y \\rangle$')\n",
    "ax1.legend(loc = 'best',fontsize = 12)\n",
    "ax1.set_xlabel(r'$N$',fontsize = 18)\n",
    "\n",
    "ax2 = fig.add_subplot(2,2,2)\n",
    "slope, corte = lineFit(Ngraf,R2)\n",
    "ajuste = slope*Ngraf + corte\n",
    "ax2.plot(Ngraf,R2,'b',label = r'data')\n",
    "ax2.plot(Ngraf,ajuste,color = 'red',dashes = (5,1),label = r'fit')\n",
    "ax2.legend(loc = 'best',fontsize = 12)\n",
    "ax2.set_xlabel(r'$N$',fontsize = 18)\n",
    "ax2.set_ylabel(r'$R_{rms}^2$',fontsize = 18)\n",
    "print(slope,corte)\n",
    "\n",
    "ax3 = fig.add_subplot(2,2,3)\n",
    "\n",
    "ax3.set_xlabel(r'$x$',fontsize = 18)\n",
    "ax3.set_ylabel(r'$P(x)$',fontsize = 18)\n",
    "n, bins, patches = plt.hist(XparaN, bins = 50,density = True) # density = True, funcion de distribucion\n",
    "x = np.arange(-400,400,0.1)\n",
    "Prob = np.exp(-x**2/(2*N/2))/np.sqrt(np.pi*2*N/2)\n",
    "ax3.set_xlim(-100,100)\n",
    "ax3.plot(x,Prob,color = 'black')\n",
    "ax3.text(0,n.max(),\n",
    "         r'$ P(x) = \\displaystyle\\frac{1}{\\sqrt{2\\pi (N/2)}}\\,\\mbox{e}^{\\displaystyle -x^2/2 (N/2)}$',\n",
    "         fontsize = 13)\n",
    "ax4 = fig.add_subplot(2,2,4)\n",
    "\n",
    "ax4.set_xlabel(r'$y$',fontsize = 18)\n",
    "ax4.set_ylabel(r'$P(y)$',fontsize = 18)\n",
    "n, bins, patches = plt.hist(YparaN, bins = 50,density = True) # density = True, funcion de distribucion\n",
    "x = np.arange(-400,400,0.1)\n",
    "Prob = np.exp(-x**2/(2*N/2))/np.sqrt(np.pi*2*N/2)\n",
    "ax4.set_xlim(-100,100)\n",
    "ax4.plot(x,Prob,color = 'black')\n",
    "ax4.text(0,n.max(),\n",
    "         r'$ P(y) = \\displaystyle\\frac{1}{\\sqrt{2\\pi (N/2)}}\\,\\mbox{e}^{\\displaystyle -y^2/2 (N/2)}$',\n",
    "         fontsize = 13)\n",
    "fig.tight_layout()"
   ]
  },
  {
   "cell_type": "markdown",
   "metadata": {},
   "source": [
    "¿Por qué el $N/2$ en la función?\n",
    "\n",
    "En la fórmula de la Gaussiana debería de estar la varianza de la variable aleatoria. Para la variavle aleatoria $X$ deberia estar $\\Delta X^2$ y para $Y$, $\\Delta Y^2$.\n",
    "\n",
    "Sabemos que:\n",
    "\\begin{equation}\n",
    "R^2 = \\Delta X^2 + \\Delta Y^2,\n",
    "\\end{equation}\n",
    "como $R^2=N$ y hay simetría $X\\leftrightarrow Y$ se tiene:\n",
    "\\begin{equation}\n",
    "\\Delta X^2 = \\Delta Y^2 = N/2\n",
    "\\end{equation}"
   ]
  },
  {
   "cell_type": "markdown",
   "metadata": {},
   "source": [
    "## Red triangular"
   ]
  },
  {
   "cell_type": "code",
   "execution_count": null,
   "metadata": {},
   "outputs": [],
   "source": [
    "Image(filename='triangular.png',width=800, height=1200)"
   ]
  },
  {
   "cell_type": "code",
   "execution_count": null,
   "metadata": {},
   "outputs": [],
   "source": [
    "Nb=8192\n",
    "Ns =336\n",
    "Nprime = 8192**(2/3)*336**(1/3)\n",
    "print(Nprime)\n",
    "N2 = 896"
   ]
  },
  {
   "cell_type": "code",
   "execution_count": null,
   "metadata": {},
   "outputs": [],
   "source": [
    "print((np.log(Nb)-np.log(Nprime))/3,\n",
    "     (np.log(Nprime)-np.log(N2))/3,\n",
    "     (np.log(N2)-np.log(Ns))/3)"
   ]
  },
  {
   "cell_type": "code",
   "execution_count": null,
   "metadata": {},
   "outputs": [],
   "source": [
    "np.log(Nb)"
   ]
  },
  {
   "cell_type": "code",
   "execution_count": null,
   "metadata": {},
   "outputs": [],
   "source": [
    "np.log(Nprime)"
   ]
  },
  {
   "cell_type": "code",
   "execution_count": null,
   "metadata": {},
   "outputs": [],
   "source": [
    "np.log(N2)"
   ]
  },
  {
   "cell_type": "code",
   "execution_count": null,
   "metadata": {},
   "outputs": [],
   "source": []
  }
 ],
 "metadata": {
  "kernelspec": {
   "display_name": "Python 3 (ipykernel)",
   "language": "python",
   "name": "python3"
  },
  "language_info": {
   "codemirror_mode": {
    "name": "ipython",
    "version": 3
   },
   "file_extension": ".py",
   "mimetype": "text/x-python",
   "name": "python",
   "nbconvert_exporter": "python",
   "pygments_lexer": "ipython3",
   "version": "3.11.4"
  }
 },
 "nbformat": 4,
 "nbformat_minor": 2
}
