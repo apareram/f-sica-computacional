{
 "cells": [
  {
   "cell_type": "code",
   "execution_count": 15,
   "metadata": {},
   "outputs": [],
   "source": [
    "import numpy as np\n",
    "import matplotlib.pyplot as plt\n",
    "import math\n",
    "import time"
   ]
  },
  {
   "cell_type": "markdown",
   "metadata": {},
   "source": [
    "### función de trapecio hecha previamente "
   ]
  },
  {
   "cell_type": "code",
   "execution_count": 16,
   "metadata": {},
   "outputs": [],
   "source": [
    "def trapecio(a, b, f, N):\n",
    "    h = (b - a) / N\n",
    "    Iab = 0.5 * (f(a) + f(b))\n",
    "    for k in range(1, N):\n",
    "        Iab += f(a + k * h)\n",
    "    return h * Iab"
   ]
  },
  {
   "cell_type": "markdown",
   "metadata": {},
   "source": [
    "### función de simpson hecha previamente "
   ]
  },
  {
   "cell_type": "code",
   "execution_count": 17,
   "metadata": {},
   "outputs": [],
   "source": [
    "def simpson(a, b, f, N):\n",
    "    if N % 2 != 0:\n",
    "        raise ValueError(\"N debe ser un número par\")\n",
    "    h = (b - a) / N\n",
    "    sum1 = f(a) + f(b)\n",
    "    sum4 = 0\n",
    "    sum2 = 0\n",
    "    for k in range(1, N, 2):\n",
    "        sum4 += 4 * f(a + k * h)\n",
    "    for k in range(2, N - 1, 2):\n",
    "        sum2 += 2 * f(a + k * h)\n",
    "    Iab = (h / 3) * (sum1 + sum4 + sum2)\n",
    "    return Iab"
   ]
  },
  {
   "cell_type": "markdown",
   "metadata": {},
   "source": [
    "### función de romberg\n"
   ]
  },
  {
   "cell_type": "code",
   "execution_count": 18,
   "metadata": {},
   "outputs": [],
   "source": [
    "def romberg_integration(f, a, b, n, tol):\n",
    "    R = np.zeros((n, n))\n",
    "    for i in range(n):\n",
    "        h = (b - a) / (2**i)\n",
    "        R[i, 0] = (f(a) + f(b) + 2 * sum(f(a + j * h) for j in range(1, 2**i))) * (h / 2)\n",
    "    for i in range(1, n):\n",
    "        for j in range(1, i + 1):\n",
    "            R[i, j] = (4**j * R[i, j-1] - R[i-1, j-1]) / (4**j - 1)\n",
    "        if i > 1 and abs(R[i, i] - R[i-1, i-1]) < tol:\n",
    "            return R[i, i], i\n",
    "    return R[-1, -1], n"
   ]
  },
  {
   "cell_type": "markdown",
   "metadata": {},
   "source": [
    "### función a integrar y parámetros"
   ]
  },
  {
   "cell_type": "code",
   "execution_count": 22,
   "metadata": {},
   "outputs": [],
   "source": [
    "\n",
    "def function_to_integrate(x):\n",
    "    return np.sin(math.sqrt(100 * x))**2\n",
    "\n",
    "a = 0\n",
    "b = 1\n",
    "n = 10\n",
    "tol = 1e-8\n",
    "res_ex = 0.45583253230908216"
   ]
  },
  {
   "cell_type": "code",
   "execution_count": 24,
   "metadata": {},
   "outputs": [
    {
     "data": {
      "text/plain": [
       "{'Romberg': {'resultado': 0.4558325323090849,\n",
       "  'iteraciones': 8,\n",
       "  'tiempo': 0.0011680126190185547,\n",
       "  'error absoluto': 5.9672055361052574e-15},\n",
       " 'Trapecio': {'resultado': 0.455711266453241,\n",
       "  'tiempo': 0.0002791881561279297,\n",
       "  'error absoluto': 0.0002660315954784281},\n",
       " 'Simpson': {'resultado': 0.45583218714672064,\n",
       "  'tiempo': 0.0002880096435546875,\n",
       "  'error absoluto': 7.572130926622371e-07}}"
      ]
     },
     "execution_count": 24,
     "metadata": {},
     "output_type": "execute_result"
    }
   ],
   "source": [
    "romb_ini = time.time()\n",
    "romb_res, i_romb = romberg_integration(function_to_integrate, a, b, n, tol)\n",
    "romb_fin = time.time()\n",
    "\n",
    "n_trap = 2**i_romb  \n",
    "trap_ini = time.time()\n",
    "trap_res = trapecio(a, b, function_to_integrate, n_trap)\n",
    "trap_fin = time.time()\n",
    "\n",
    "n_simp = n_trap if n_trap % 2 == 0 else n_trap + 1  \n",
    "simp_ini = time.time()\n",
    "simp_res = simpson(a, b, function_to_integrate, n_simp)\n",
    "simp_fin = time.time()\n",
    "\n",
    "romb_t = romb_fin - romb_ini\n",
    "trap_t = trap_fin - trap_ini\n",
    "simp_t = simp_fin - simp_ini\n",
    "\n",
    "e_romb = np.abs((romb_res - res_ex)/abs(res_ex))\n",
    "e_trap = np.abs((trap_res - res_ex)/abs(res_ex))\n",
    "e_simp = np.abs((simp_res - res_ex)/abs(res_ex))\n",
    "\n",
    "{\n",
    "    \"Romberg\": {\n",
    "        \"resultado\": romb_res,\n",
    "        \"iteraciones\": i_romb,\n",
    "        \"tiempo\": romb_t,\n",
    "        \"error absoluto\": e_romb\n",
    "        \n",
    "    },\n",
    "    \"Trapecio\": {\n",
    "        \"resultado\": trap_res,\n",
    "        \"tiempo\": trap_t,\n",
    "        \"error absoluto\": e_trap\n",
    "    },\n",
    "    \"Simpson\": {\n",
    "        \"resultado\": simp_res,\n",
    "        \"tiempo\": simp_t,\n",
    "        \"error absoluto\": e_simp\n",
    "    }\n",
    "}\n"
   ]
  },
  {
   "cell_type": "markdown",
   "metadata": {},
   "source": [
    "## Discución"
   ]
  },
  {
   "cell_type": "markdown",
   "metadata": {},
   "source": [
    "Podemos ver como el método de Romberg es mucho más preciso que los demas, pero también es un poco más lento que los otros dos."
   ]
  }
 ],
 "metadata": {
  "kernelspec": {
   "display_name": "base",
   "language": "python",
   "name": "python3"
  },
  "language_info": {
   "codemirror_mode": {
    "name": "ipython",
    "version": 3
   },
   "file_extension": ".py",
   "mimetype": "text/x-python",
   "name": "python",
   "nbconvert_exporter": "python",
   "pygments_lexer": "ipython3",
   "version": "3.11.5"
  }
 },
 "nbformat": 4,
 "nbformat_minor": 2
}
