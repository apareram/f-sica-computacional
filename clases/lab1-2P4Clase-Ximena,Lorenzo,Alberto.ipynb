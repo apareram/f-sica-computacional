{
 "cells": [
  {
   "cell_type": "code",
   "execution_count": 85,
   "metadata": {},
   "outputs": [],
   "source": [
    "import numpy as np\n",
    "import matplotlib.pyplot as plt\n",
    "import math"
   ]
  },
  {
   "cell_type": "markdown",
   "metadata": {},
   "source": [
    "# Trapecio"
   ]
  },
  {
   "cell_type": "code",
   "execution_count": 86,
   "metadata": {},
   "outputs": [],
   "source": [
    "def ah_0(a, b, f):\n",
    "    h = (b - a)\n",
    "    Iab = h/2 * (f(a) + f(b))\n",
    "    return Iab, h"
   ]
  },
  {
   "cell_type": "code",
   "execution_count": 87,
   "metadata": {},
   "outputs": [],
   "source": [
    "def trapecio (a, f, n, a0, h0, tol):\n",
    "    sum1 = 0\n",
    "    j = 1\n",
    "    while j < n:\n",
    "        afuera = a0 / 2\n",
    "        hn = h0 / 2\n",
    "        for i in range(1, (2**j)-1, 2):\n",
    "            sum1 += f(a + i*hn) \n",
    "        An = afuera + hn * sum1\n",
    "        comp = abs((An - a0) / An)\n",
    "        if comp < tol:\n",
    "            print(\"iteraciones:\", j)\n",
    "            return An\n",
    "        else:\n",
    "            a0 = An\n",
    "            h0 = hn\n",
    "            sum1 = 0\n",
    "            j += 1"
   ]
  },
  {
   "cell_type": "markdown",
   "metadata": {},
   "source": [
    "### a)"
   ]
  },
  {
   "cell_type": "code",
   "execution_count": 102,
   "metadata": {},
   "outputs": [],
   "source": [
    "a = 2\n",
    "b = 5\n",
    "fun = lambda x: x**2\n",
    "tol = 1e-6\n",
    "n = 100\n",
    "exact = 39\n",
    "a0, h0 = ah_0(a, b, fun)"
   ]
  },
  {
   "cell_type": "code",
   "execution_count": 103,
   "metadata": {},
   "outputs": [
    {
     "name": "stdout",
     "output_type": "stream",
     "text": [
      "iteraciones: 26\n",
      "resultado: 38.999972149729615\n",
      "error: 7.141094970509771e-07\n",
      "38.999972149729615\n"
     ]
    }
   ],
   "source": [
    "res = trapecio(a, fun, n, a0, h0, tol)\n",
    "e1 = np.abs((res - exact)/abs(exact))\n",
    "print(\"resultado:\", res)\n",
    "print(\"error:\", e1)\n",
    "print(res)"
   ]
  },
  {
   "cell_type": "markdown",
   "metadata": {},
   "source": [
    "### b)"
   ]
  },
  {
   "cell_type": "code",
   "execution_count": 99,
   "metadata": {},
   "outputs": [],
   "source": [
    "a = 0\n",
    "b = np.pi\n",
    "fun = lambda x: np.sin(x)\n",
    "tol = 1e-6\n",
    "n= 100\n",
    "exact = 2\n",
    "a0, h0 = ah_0(a, b, fun)"
   ]
  },
  {
   "cell_type": "code",
   "execution_count": 101,
   "metadata": {},
   "outputs": [
    {
     "name": "stdout",
     "output_type": "stream",
     "text": [
      "iteraciones: 22\n",
      "resultado: 1.999998141659196\n",
      "error: 9.291704019531721e-07\n"
     ]
    }
   ],
   "source": [
    "res2 = trapecio(a, fun, n, a0, h0, tol)\n",
    "e2 = np.abs((res2 - exact)/abs(exact))\n",
    "print(\"resultado:\", res2)\n",
    "print(\"error:\", e2)"
   ]
  },
  {
   "cell_type": "markdown",
   "metadata": {},
   "source": [
    "### c)"
   ]
  },
  {
   "cell_type": "code",
   "execution_count": 97,
   "metadata": {},
   "outputs": [],
   "source": [
    "a = 0\n",
    "b = 3.5\n",
    "fun = lambda x: np.exp(-x**2)\n",
    "tol = 1e-6\n",
    "n= 100\n",
    "exact = 0.8862262668989721\n",
    "a0, h0 = ah_0(a, b, fun)"
   ]
  },
  {
   "cell_type": "code",
   "execution_count": 98,
   "metadata": {},
   "outputs": [
    {
     "name": "stdout",
     "output_type": "stream",
     "text": [
      "iteraciones: 18\n",
      "resultado: 0.8862256264301898\n",
      "error: 7.226921682016516e-07\n"
     ]
    }
   ],
   "source": [
    "res3 = trapecio(a, fun, n, a0, h0, tol)\n",
    "e3 = np.abs((res3 - exact)/abs(exact))\n",
    "print(\"resultado:\", res3)\n",
    "print(\"error:\", e3)"
   ]
  },
  {
   "cell_type": "markdown",
   "metadata": {},
   "source": [
    "## Discusión"
   ]
  },
  {
   "cell_type": "code",
   "execution_count": 94,
   "metadata": {},
   "outputs": [],
   "source": [
    "def trapecio_viejo(a, b, f, N):\n",
    "    h = (b - a)/N\n",
    "    Iab = 0.5 * (f(a) + f(b))\n",
    "    for k in range(1, N):\n",
    "        Iab += f(a + k*h)\n",
    "    return h * Iab"
   ]
  },
  {
   "cell_type": "code",
   "execution_count": 105,
   "metadata": {},
   "outputs": [
    {
     "name": "stdout",
     "output_type": "stream",
     "text": [
      "resultado: 39.00045000000001\n",
      "error: 1.1538461538662385e-05\n",
      "error: 7.141094970509771e-07\n",
      "39.00045000000001\n"
     ]
    }
   ],
   "source": [
    "a = 2\n",
    "b = 5\n",
    "fun = lambda x: x**2\n",
    "tol = 1e-6\n",
    "n = 100\n",
    "exact = 39\n",
    "\n",
    "res4 = trapecio_viejo(a, b, fun, n)\n",
    "e4 = np.abs((res4 - exact)/abs(exact))\n",
    "print(\"resultado:\", res4)\n",
    "print(\"error:\", e4)\n",
    "print(\"error:\", e1)\n",
    "print(res4)"
   ]
  },
  {
   "cell_type": "markdown",
   "metadata": {},
   "source": [
    "De primera vista pareciera que el método viejo es más rápido y más preciso, pero comparando los errores nos damos cuenta de que solamente es más rápida nuestra función vieja, pero comparando los errores es más preciso, pero se podría hacer mucho más eficiente esta función."
   ]
  }
 ],
 "metadata": {
  "kernelspec": {
   "display_name": "base",
   "language": "python",
   "name": "python3"
  },
  "language_info": {
   "codemirror_mode": {
    "name": "ipython",
    "version": 3
   },
   "file_extension": ".py",
   "mimetype": "text/x-python",
   "name": "python",
   "nbconvert_exporter": "python",
   "pygments_lexer": "ipython3",
   "version": "3.11.5"
  }
 },
 "nbformat": 4,
 "nbformat_minor": 2
}
