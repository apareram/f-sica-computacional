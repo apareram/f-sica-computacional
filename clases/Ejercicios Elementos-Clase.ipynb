{
 "cells": [
  {
   "cell_type": "markdown",
   "id": "a78cecec",
   "metadata": {},
   "source": [
    "#### 3.3 Pines\n",
    "\n",
    "La posición de una pelota en el tiempo $t$  que se soltó con velocidad inicial cero desde una altura $h_0$ está dada por:\n",
    "\\begin{equation}\n",
    "y = h_0 -\\frac{1}{2}gt^2,\n",
    "\\end{equation}\n",
    "donde $g = 9.8$ m/s$^2$. Suponga que $h_0= 10$ m. Encuentre la secuencia de tiempos cuando  la pelota pasa cada medio metro asumiendo que la pelota es soltada en $t=0$. "
   ]
  }
 ],
 "metadata": {
  "kernelspec": {
   "display_name": "Python 3 (ipykernel)",
   "language": "python",
   "name": "python3"
  },
  "language_info": {
   "codemirror_mode": {
    "name": "ipython",
    "version": 3
   },
   "file_extension": ".py",
   "mimetype": "text/x-python",
   "name": "python",
   "nbconvert_exporter": "python",
   "pygments_lexer": "ipython3",
   "version": "3.11.4"
  }
 },
 "nbformat": 4,
 "nbformat_minor": 5
}
